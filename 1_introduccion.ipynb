{
  "nbformat": 4,
  "nbformat_minor": 0,
  "metadata": {
    "colab": {
      "name": "1_Introduccion.ipynb",
      "provenance": [],
      "collapsed_sections": [],
      "include_colab_link": true
    },
    "kernelspec": {
      "name": "python3",
      "display_name": "Python 3"
    },
    "language_info": {
      "name": "python"
    }
  },
  "cells": [
    {
      "cell_type": "markdown",
      "metadata": {
        "id": "view-in-github",
        "colab_type": "text"
      },
      "source": [
        "<a href=\"https://colab.research.google.com/gist/vkslogan/8ccd8361f7859adfefaa00ec64caf53f/1_introduccion.ipynb\" target=\"_parent\"><img src=\"https://colab.research.google.com/assets/colab-badge.svg\" alt=\"Open In Colab\"/></a>"
      ]
    },
    {
      "cell_type": "markdown",
      "metadata": {
        "id": "BZwAteJVdgoj"
      },
      "source": [
        "## Seccion 1.1 (Hello World)"
      ]
    },
    {
      "cell_type": "markdown",
      "metadata": {
        "id": "ATetYy5MeO2N"
      },
      "source": [
        "El primer comando/funcion en aprender en un curso introductorio de python es por excelencia la función ```print()```"
      ]
    },
    {
      "cell_type": "code",
      "metadata": {
        "colab": {
          "base_uri": "https://localhost:8080/"
        },
        "id": "r5ovMWkdd7vO",
        "outputId": "617b99da-2eec-4f8b-ce75-cdd3367e1c5a"
      },
      "source": [
        "print('Hello world')"
      ],
      "execution_count": null,
      "outputs": [
        {
          "output_type": "stream",
          "name": "stdout",
          "text": [
            "Hello world\n"
          ]
        }
      ]
    },
    {
      "cell_type": "code",
      "metadata": {
        "colab": {
          "base_uri": "https://localhost:8080/",
          "height": 35
        },
        "id": "xRPA4CRhebwJ",
        "outputId": "1590a310-61fa-4138-b579-a00a6a319484"
      },
      "source": [
        "mi_nombre = 'Ivan'"
      ],
      "execution_count": null,
      "outputs": [
        {
          "output_type": "execute_result",
          "data": {
            "application/vnd.google.colaboratory.intrinsic+json": {
              "type": "string"
            },
            "text/plain": [
              "'Ivan'"
            ]
          },
          "metadata": {},
          "execution_count": 3
        }
      ]
    },
    {
      "cell_type": "code",
      "metadata": {
        "colab": {
          "base_uri": "https://localhost:8080/"
        },
        "id": "29ydwNnKek-y",
        "outputId": "87c2fd7f-574e-4461-8589-15304a1331f4"
      },
      "source": [
        "print(mi_nombre)"
      ],
      "execution_count": null,
      "outputs": [
        {
          "output_type": "stream",
          "name": "stdout",
          "text": [
            "Ivan\n"
          ]
        }
      ]
    },
    {
      "cell_type": "markdown",
      "metadata": {
        "id": "dmp8puE4eoLp"
      },
      "source": [
        "Podemos concatenar strings (cadenas de texto) con los operadores de \"+\""
      ]
    },
    {
      "cell_type": "code",
      "metadata": {
        "colab": {
          "base_uri": "https://localhost:8080/"
        },
        "id": "PruyoxNqexEm",
        "outputId": "a69ea6f6-e51e-4f21-bfc2-3aa3a26a80d0"
      },
      "source": [
        "nombre_completo = mi_nombre + ' ' +  'Montenegro'\n",
        "print(nombre_completo)"
      ],
      "execution_count": null,
      "outputs": [
        {
          "output_type": "stream",
          "name": "stdout",
          "text": [
            "Ivan Montenegro\n"
          ]
        }
      ]
    },
    {
      "cell_type": "markdown",
      "metadata": {
        "id": "-9ljsaw5e8jG"
      },
      "source": [
        "Solo podemos usar el operador suma cuando se concatenan cadenas texto"
      ]
    },
    {
      "cell_type": "code",
      "metadata": {
        "colab": {
          "base_uri": "https://localhost:8080/",
          "height": 165
        },
        "id": "8bvq-ldUfDnd",
        "outputId": "07db202d-aed3-4668-cd7a-acf73e6c0a00"
      },
      "source": [
        "nombre_completo = mi_nombre + 5"
      ],
      "execution_count": null,
      "outputs": [
        {
          "output_type": "error",
          "ename": "TypeError",
          "evalue": "ignored",
          "traceback": [
            "\u001b[0;31m---------------------------------------------------------------------------\u001b[0m",
            "\u001b[0;31mTypeError\u001b[0m                                 Traceback (most recent call last)",
            "\u001b[0;32m<ipython-input-9-50ba30aabc76>\u001b[0m in \u001b[0;36m<module>\u001b[0;34m()\u001b[0m\n\u001b[0;32m----> 1\u001b[0;31m \u001b[0mnombre_completo\u001b[0m \u001b[0;34m=\u001b[0m \u001b[0mmi_nombre\u001b[0m \u001b[0;34m+\u001b[0m \u001b[0;36m5\u001b[0m\u001b[0;34m\u001b[0m\u001b[0;34m\u001b[0m\u001b[0m\n\u001b[0m",
            "\u001b[0;31mTypeError\u001b[0m: can only concatenate str (not \"int\") to str"
          ]
        }
      ]
    },
    {
      "cell_type": "markdown",
      "metadata": {
        "id": "IEimkLYJfqRt"
      },
      "source": [
        "## Tipos de variables"
      ]
    },
    {
      "cell_type": "markdown",
      "metadata": {
        "id": "zadiN5d4fQei"
      },
      "source": [
        "Para conocer la naturaleza de nuestras variables podemos hacer uso de la función ```type()```"
      ]
    },
    {
      "cell_type": "code",
      "metadata": {
        "colab": {
          "base_uri": "https://localhost:8080/"
        },
        "id": "MiHwuPNJfUVo",
        "outputId": "51e97d65-2b80-421a-add5-6e3e61e2ee01"
      },
      "source": [
        "type(mi_nombre)\n",
        "valor_entero = 5.54\n",
        "type(valor_entero)"
      ],
      "execution_count": null,
      "outputs": [
        {
          "output_type": "execute_result",
          "data": {
            "text/plain": [
              "float"
            ]
          },
          "metadata": {},
          "execution_count": 19
        }
      ]
    },
    {
      "cell_type": "markdown",
      "metadata": {
        "id": "an8uXArJfuUl"
      },
      "source": [
        "## Listas"
      ]
    },
    {
      "cell_type": "markdown",
      "metadata": {
        "id": "wnBnjEEIfzZT"
      },
      "source": [
        "Las listas se definen por medio de un par de corchetes ```[]``` . Las listas pueden contener distintos tipo de variables, ya sean cadenas de texto (```str```), enteros (```ìnt```), flotantes (```floats```) o booleanos ```bool```"
      ]
    },
    {
      "cell_type": "code",
      "metadata": {
        "id": "bFmezYbXfyq4"
      },
      "source": [
        "mi_lista = [1,48.7,'tres',True]"
      ],
      "execution_count": null,
      "outputs": []
    },
    {
      "cell_type": "markdown",
      "metadata": {
        "id": "06mjx7EngnUS"
      },
      "source": [
        "Para acceder a cada elemento de mi lista, debo colocar dentro del corchete el valor de la posición de ese elemento, en python, se empieza a contar desde 0. "
      ]
    },
    {
      "cell_type": "code",
      "metadata": {
        "colab": {
          "base_uri": "https://localhost:8080/"
        },
        "id": "c5WzoAGSgTaq",
        "outputId": "2aa26bce-de76-4328-8a1f-e9d038001af4"
      },
      "source": [
        "type(mi_lista[0])"
      ],
      "execution_count": null,
      "outputs": [
        {
          "output_type": "execute_result",
          "data": {
            "text/plain": [
              "int"
            ]
          },
          "metadata": {},
          "execution_count": 28
        }
      ]
    },
    {
      "cell_type": "markdown",
      "metadata": {
        "id": "a2zTLTBLlBN9"
      },
      "source": [
        "Podemos accerder a una lista de atras para adelante"
      ]
    },
    {
      "cell_type": "code",
      "metadata": {
        "colab": {
          "base_uri": "https://localhost:8080/",
          "height": 35
        },
        "id": "ScCI1_PolEWd",
        "outputId": "23fe86cc-c7e3-47b2-d52f-fe6fc383e993"
      },
      "source": [
        "mi_lista[-2]"
      ],
      "execution_count": null,
      "outputs": [
        {
          "output_type": "execute_result",
          "data": {
            "application/vnd.google.colaboratory.intrinsic+json": {
              "type": "string"
            },
            "text/plain": [
              "'tres'"
            ]
          },
          "metadata": {},
          "execution_count": 53
        }
      ]
    },
    {
      "cell_type": "code",
      "metadata": {
        "id": "FKuC8gDDg9KA"
      },
      "source": [
        "bikes = []\n",
        "bikes.append('trek')\n",
        "bikes.append('giant')"
      ],
      "execution_count": null,
      "outputs": []
    },
    {
      "cell_type": "code",
      "metadata": {
        "colab": {
          "base_uri": "https://localhost:8080/"
        },
        "id": "99OqIdHFhGh-",
        "outputId": "30436615-8183-4582-cf00-3584c665074d"
      },
      "source": [
        "bikes"
      ],
      "execution_count": null,
      "outputs": [
        {
          "output_type": "execute_result",
          "data": {
            "text/plain": [
              "['trek', 'giant']"
            ]
          },
          "metadata": {},
          "execution_count": 33
        }
      ]
    },
    {
      "cell_type": "markdown",
      "metadata": {
        "id": "_tgPim6XhPLv"
      },
      "source": [
        "Para conocer el tamaño de una lista tenemos la función ```len()```)"
      ]
    },
    {
      "cell_type": "code",
      "metadata": {
        "colab": {
          "base_uri": "https://localhost:8080/"
        },
        "id": "vee78mMXhVsU",
        "outputId": "ae5106b7-ba03-449c-c5ad-b3ee9d1ed545"
      },
      "source": [
        "len(mi_lista)"
      ],
      "execution_count": null,
      "outputs": [
        {
          "output_type": "execute_result",
          "data": {
            "text/plain": [
              "4"
            ]
          },
          "metadata": {},
          "execution_count": 34
        }
      ]
    },
    {
      "cell_type": "markdown",
      "metadata": {
        "id": "e-X9ufrJhzgg"
      },
      "source": [
        "## For loops"
      ]
    },
    {
      "cell_type": "code",
      "metadata": {
        "colab": {
          "base_uri": "https://localhost:8080/"
        },
        "id": "EZPCDtenh02Y",
        "outputId": "fa6e104b-10c1-4963-d594-acf26e357d1e"
      },
      "source": [
        "for i in range(4):\n",
        "  print(i)"
      ],
      "execution_count": null,
      "outputs": [
        {
          "output_type": "stream",
          "name": "stdout",
          "text": [
            "0\n",
            "1\n",
            "2\n",
            "3\n"
          ]
        }
      ]
    },
    {
      "cell_type": "markdown",
      "metadata": {
        "id": "ynWJuxyxKtmY"
      },
      "source": [
        "El límite superior de un for loop es excluyente, en este caso no toma el 4"
      ]
    },
    {
      "cell_type": "code",
      "metadata": {
        "colab": {
          "base_uri": "https://localhost:8080/"
        },
        "id": "EWgjjQyaJ0m7",
        "outputId": "769db1c3-66ba-4655-9dc4-bb3a5b8ea051"
      },
      "source": [
        "for i in range(2,4):\n",
        "  print(i)"
      ],
      "execution_count": null,
      "outputs": [
        {
          "output_type": "stream",
          "name": "stdout",
          "text": [
            "2\n",
            "3\n"
          ]
        }
      ]
    },
    {
      "cell_type": "markdown",
      "metadata": {
        "id": "8nxeAiWViIfr"
      },
      "source": [
        "Crear un for loop para obtener la suma de 1 + 2 + 3 + 4 + 5 + 6 + 7 ,.... 100"
      ]
    },
    {
      "cell_type": "code",
      "metadata": {
        "id": "xcs7j60oiZRR"
      },
      "source": [
        "init = 0\n",
        "for i in range(101):\n",
        "  suma = init + i\n",
        "  init = suma\n",
        "  print(suma)"
      ],
      "execution_count": null,
      "outputs": []
    },
    {
      "cell_type": "markdown",
      "metadata": {
        "id": "QcZmjDF-ixRe"
      },
      "source": [
        "Podemos comprobar mediante la formula de Gauss"
      ]
    },
    {
      "cell_type": "code",
      "metadata": {
        "colab": {
          "base_uri": "https://localhost:8080/"
        },
        "id": "eX7uLuhgiFcd",
        "outputId": "68cd97d9-1a07-40cc-8a38-130140bba79f"
      },
      "source": [
        "sum = 101*50\n",
        "sum"
      ],
      "execution_count": null,
      "outputs": [
        {
          "output_type": "execute_result",
          "data": {
            "text/plain": [
              "5050"
            ]
          },
          "metadata": {},
          "execution_count": 37
        }
      ]
    },
    {
      "cell_type": "markdown",
      "metadata": {
        "id": "mHjwYCJSFfgX"
      },
      "source": [
        "Podemos iterar sobre una lista y acceder a cada elemento de la lista en un for loop"
      ]
    },
    {
      "cell_type": "code",
      "metadata": {
        "colab": {
          "base_uri": "https://localhost:8080/"
        },
        "id": "oOMM5zeIi2DH",
        "outputId": "069bf65d-d383-4428-aa47-3cf8553a423b"
      },
      "source": [
        "for i in range(len(mi_lista)):\n",
        "  print(mi_lista[i])"
      ],
      "execution_count": null,
      "outputs": [
        {
          "output_type": "stream",
          "name": "stdout",
          "text": [
            "1\n",
            "48.7\n",
            "tres\n",
            "True\n"
          ]
        }
      ]
    },
    {
      "cell_type": "markdown",
      "metadata": {
        "id": "K-sLtpvoj3we"
      },
      "source": [
        "## True/False"
      ]
    },
    {
      "cell_type": "markdown",
      "metadata": {
        "id": "Zq-RH1b3kANA"
      },
      "source": [
        "Definimos variables con valores númericos"
      ]
    },
    {
      "cell_type": "code",
      "metadata": {
        "id": "sfn1BnCQj7qj"
      },
      "source": [
        "z = 20\n",
        "y = 25 "
      ],
      "execution_count": null,
      "outputs": []
    },
    {
      "cell_type": "markdown",
      "metadata": {
        "id": "vIKybQaGkMW4"
      },
      "source": [
        "¿Z Es igual a Y?"
      ]
    },
    {
      "cell_type": "code",
      "metadata": {
        "colab": {
          "base_uri": "https://localhost:8080/"
        },
        "id": "Dum8RXD7kDKC",
        "outputId": "fb6fa623-594a-4129-dce4-eb695f6983e6"
      },
      "source": [
        "z == y "
      ],
      "execution_count": null,
      "outputs": [
        {
          "output_type": "execute_result",
          "data": {
            "text/plain": [
              "False"
            ]
          },
          "metadata": {},
          "execution_count": 45
        }
      ]
    },
    {
      "cell_type": "markdown",
      "metadata": {
        "id": "Sqv3z18-kL3Y"
      },
      "source": [
        "¿Z es distinto de Y?"
      ]
    },
    {
      "cell_type": "code",
      "metadata": {
        "colab": {
          "base_uri": "https://localhost:8080/"
        },
        "id": "rgmdVaaFkKGd",
        "outputId": "adefa088-c8af-44e8-c87d-ca0786b310ca"
      },
      "source": [
        "z != y "
      ],
      "execution_count": null,
      "outputs": [
        {
          "output_type": "execute_result",
          "data": {
            "text/plain": [
              "True"
            ]
          },
          "metadata": {},
          "execution_count": 47
        }
      ]
    },
    {
      "cell_type": "markdown",
      "metadata": {
        "id": "GXkZcmprkeDd"
      },
      "source": [
        "¿Z es mayor que Y?"
      ]
    },
    {
      "cell_type": "code",
      "metadata": {
        "colab": {
          "base_uri": "https://localhost:8080/"
        },
        "id": "z2wwNfmNkgbB",
        "outputId": "c0f5e8fb-9274-43ae-e60d-c13732b0e107"
      },
      "source": [
        "z > y"
      ],
      "execution_count": null,
      "outputs": [
        {
          "output_type": "execute_result",
          "data": {
            "text/plain": [
              "False"
            ]
          },
          "metadata": {},
          "execution_count": 48
        }
      ]
    },
    {
      "cell_type": "markdown",
      "metadata": {
        "id": "EG09mNH-kk-w"
      },
      "source": [
        "¿Z es menor que Y?"
      ]
    },
    {
      "cell_type": "code",
      "metadata": {
        "colab": {
          "base_uri": "https://localhost:8080/"
        },
        "id": "JjamF0-Xkmql",
        "outputId": "3e183715-3252-4af8-f9d4-e9a6a21a9ac9"
      },
      "source": [
        "z < y"
      ],
      "execution_count": null,
      "outputs": [
        {
          "output_type": "execute_result",
          "data": {
            "text/plain": [
              "True"
            ]
          },
          "metadata": {},
          "execution_count": 49
        }
      ]
    },
    {
      "cell_type": "markdown",
      "metadata": {
        "id": "Ca13OmjRko_j"
      },
      "source": [
        "¿Z es mayor o igual que y?[texto del enlace](https://)"
      ]
    },
    {
      "cell_type": "code",
      "metadata": {
        "colab": {
          "base_uri": "https://localhost:8080/"
        },
        "id": "9chdCmgWkvCC",
        "outputId": "53be3152-e9b2-4d30-c2d2-cfde88c3bc6a"
      },
      "source": [
        "z >= y"
      ],
      "execution_count": null,
      "outputs": [
        {
          "output_type": "execute_result",
          "data": {
            "text/plain": [
              "False"
            ]
          },
          "metadata": {},
          "execution_count": 50
        }
      ]
    },
    {
      "cell_type": "markdown",
      "metadata": {
        "id": "42djIw48kyAB"
      },
      "source": [
        "¿Z es menor o igual que y?"
      ]
    },
    {
      "cell_type": "code",
      "metadata": {
        "colab": {
          "base_uri": "https://localhost:8080/"
        },
        "id": "Ki07CrKekz-E",
        "outputId": "693a7a8b-870e-4671-9e26-aedf60ebe5cf"
      },
      "source": [
        "z <= y"
      ],
      "execution_count": null,
      "outputs": [
        {
          "output_type": "execute_result",
          "data": {
            "text/plain": [
              "True"
            ]
          },
          "metadata": {},
          "execution_count": 51
        }
      ]
    }
  ]
}