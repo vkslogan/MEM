{
  "nbformat": 4,
  "nbformat_minor": 0,
  "metadata": {
    "colab": {
      "name": "Copia de 2_Nodos.ipynb",
      "provenance": [],
      "collapsed_sections": [
        "PwShALbvsWwO",
        "AL7tL3kazMM_",
        "hQ84lC_03qkA"
      ],
      "include_colab_link": true
    },
    "kernelspec": {
      "name": "python3",
      "display_name": "Python 3"
    },
    "language_info": {
      "name": "python"
    }
  },
  "cells": [
    {
      "cell_type": "markdown",
      "metadata": {
        "id": "view-in-github",
        "colab_type": "text"
      },
      "source": [
        "<a href=\"https://colab.research.google.com/github/vkslogan/MEM/blob/main/2_Nodos.ipynb\" target=\"_parent\"><img src=\"https://colab.research.google.com/assets/colab-badge.svg\" alt=\"Open In Colab\"/></a>"
      ]
    },
    {
      "cell_type": "markdown",
      "metadata": {
        "id": "i_cHFftYsOXN"
      },
      "source": [
        "## Libreria OS"
      ]
    },
    {
      "cell_type": "code",
      "metadata": {
        "id": "IRRJixS9nu-n"
      },
      "source": [
        "import os"
      ],
      "execution_count": null,
      "outputs": []
    },
    {
      "cell_type": "markdown",
      "metadata": {
        "id": "Pt27sw47riUV"
      },
      "source": [
        "Obtenemos una lista de los directorios/archivos dentro del directorio actual"
      ]
    },
    {
      "cell_type": "code",
      "metadata": {
        "colab": {
          "base_uri": "https://localhost:8080/"
        },
        "id": "95OTG_-jrgA9",
        "outputId": "e045e33b-df9a-4f3e-d4df-ff4f34e5980a"
      },
      "source": [
        "os.listdir()"
      ],
      "execution_count": null,
      "outputs": [
        {
          "output_type": "execute_result",
          "data": {
            "text/plain": [
              "['.config', 'Nodos.xlsx', 'sample_data']"
            ]
          },
          "metadata": {},
          "execution_count": 3
        }
      ]
    },
    {
      "cell_type": "code",
      "metadata": {
        "id": "SOY2lhrvrtt8"
      },
      "source": [
        "# Para cambiarme de directorio usamos la siguiente funcion\n",
        "os.chdir('sample_data')"
      ],
      "execution_count": null,
      "outputs": []
    },
    {
      "cell_type": "code",
      "metadata": {
        "colab": {
          "base_uri": "https://localhost:8080/"
        },
        "id": "Mu3JkzRZr3MD",
        "outputId": "e29ecd33-6dec-4464-f9a0-562c79357ca8"
      },
      "source": [
        "os.listdir()"
      ],
      "execution_count": null,
      "outputs": [
        {
          "output_type": "execute_result",
          "data": {
            "text/plain": [
              "['anscombe.json',\n",
              " 'README.md',\n",
              " 'mnist_train_small.csv',\n",
              " 'mnist_test.csv',\n",
              " 'california_housing_train.csv',\n",
              " 'california_housing_test.csv']"
            ]
          },
          "metadata": {},
          "execution_count": 6
        }
      ]
    },
    {
      "cell_type": "markdown",
      "metadata": {
        "id": "OaHEyuB0uM8b"
      },
      "source": [
        "Este comando muestra donde estoy actualmente"
      ]
    },
    {
      "cell_type": "code",
      "metadata": {
        "colab": {
          "base_uri": "https://localhost:8080/",
          "height": 35
        },
        "id": "PKr4cb7GuFUC",
        "outputId": "6e84a766-c899-4210-eaa2-b96fa9a19b77"
      },
      "source": [
        "os.getcwd()"
      ],
      "execution_count": null,
      "outputs": [
        {
          "output_type": "execute_result",
          "data": {
            "application/vnd.google.colaboratory.intrinsic+json": {
              "type": "string"
            },
            "text/plain": [
              "'/content/sample_data'"
            ]
          },
          "metadata": {},
          "execution_count": 11
        }
      ]
    },
    {
      "cell_type": "markdown",
      "metadata": {
        "id": "FldoIzrSBZaO"
      },
      "source": [
        "*Subimos* un nivel en nuestros directorios"
      ]
    },
    {
      "cell_type": "code",
      "metadata": {
        "id": "U9KuoetmuP52"
      },
      "source": [
        "os.chdir('..')"
      ],
      "execution_count": null,
      "outputs": []
    },
    {
      "cell_type": "code",
      "metadata": {
        "colab": {
          "base_uri": "https://localhost:8080/"
        },
        "id": "c9a_-EkUuTbN",
        "outputId": "f35c8780-7a4f-415a-9cb0-c2b67e77aceb"
      },
      "source": [
        "os.listdir()"
      ],
      "execution_count": null,
      "outputs": [
        {
          "output_type": "execute_result",
          "data": {
            "text/plain": [
              "['.config', 'Nodos.xlsx', 'sample_data']"
            ]
          },
          "metadata": {},
          "execution_count": 14
        }
      ]
    },
    {
      "cell_type": "markdown",
      "metadata": {
        "id": "PwShALbvsWwO"
      },
      "source": [
        "## Pandas Y el Sistema Eléctrico Nacional (SEN)"
      ]
    },
    {
      "cell_type": "markdown",
      "metadata": {
        "id": "AOHidGhbsnFS"
      },
      "source": [
        "El SEN Abarca todo México. Se divide en 10 gerencias de control regional (GCR) y su vez estas se subdividen en zonas de carga. Cada zona de carga esta compuesto por un determinado número o conjunto de nodos/subestaciones. Aproximadamente en todo México, existen alrededor de 2500 nodos"
      ]
    },
    {
      "cell_type": "markdown",
      "metadata": {
        "id": "CNqO_LfgsfiL"
      },
      "source": [
        "![Captura de Pantalla 2021-10-11 a la(s) 17.04.47.png](data:image/png;base64,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)"
      ]
    },
    {
      "cell_type": "markdown",
      "metadata": {
        "id": "DjPYYJ4ktx-F"
      },
      "source": [
        "Importamos la libreria pandas"
      ]
    },
    {
      "cell_type": "code",
      "metadata": {
        "id": "2CnblNPstsX7"
      },
      "source": [
        "import pandas"
      ],
      "execution_count": null,
      "outputs": []
    },
    {
      "cell_type": "markdown",
      "metadata": {
        "id": "J5dGY8iAt6W6"
      },
      "source": [
        "Voy a leer el archivo \"nodos.xlsx\" y lo almacenamos en una variable"
      ]
    },
    {
      "cell_type": "code",
      "metadata": {
        "colab": {
          "base_uri": "https://localhost:8080/",
          "height": 666
        },
        "id": "AJfWaLnqt-LM",
        "outputId": "1861cdd3-09b3-4e18-e827-25f087cf25ca"
      },
      "source": [
        "nodos = pandas.read_excel('Nodos.xlsx')\n",
        "nodos"
      ],
      "execution_count": null,
      "outputs": [
        {
          "output_type": "execute_result",
          "data": {
            "text/html": [
              "<div>\n",
              "<style scoped>\n",
              "    .dataframe tbody tr th:only-of-type {\n",
              "        vertical-align: middle;\n",
              "    }\n",
              "\n",
              "    .dataframe tbody tr th {\n",
              "        vertical-align: top;\n",
              "    }\n",
              "\n",
              "    .dataframe thead th {\n",
              "        text-align: right;\n",
              "    }\n",
              "</style>\n",
              "<table border=\"1\" class=\"dataframe\">\n",
              "  <thead>\n",
              "    <tr style=\"text-align: right;\">\n",
              "      <th></th>\n",
              "      <th>SISTEMA</th>\n",
              "      <th>CENTRO DE CONTROL REGIONAL</th>\n",
              "      <th>ZONA DE CARGA</th>\n",
              "      <th>CLAVE</th>\n",
              "      <th>NOMBRE</th>\n",
              "      <th>NIVEL DE TENSIÓN (kV)</th>\n",
              "      <th>CARGA DIRECTAMENTE MODELADA</th>\n",
              "      <th>CARGA INDIRECTAMENTE MODELADA</th>\n",
              "      <th>GENERACIÓN DIRECTAMENTE MODELADA</th>\n",
              "      <th>GENERACIÓN INDIRECTAMENTE MODELADA</th>\n",
              "      <th>ZONA DE OPERACIÓN DE TRANSMISIÓN</th>\n",
              "      <th>GERENCIA REGIONAL DE TRANSMISIÓN</th>\n",
              "      <th>ZONA DE DISTRIBUCIÓN</th>\n",
              "      <th>GERENCIA DIVISIONAL DE DISTRIBUCIÓN</th>\n",
              "      <th>CLAVE DE ENTIDAD FEDERATIVA (INEGI)</th>\n",
              "      <th>ENTIDAD FEDERATIVA (INEGI)</th>\n",
              "      <th>CLAVE DE MUNICIPIO (INEGI)</th>\n",
              "      <th>MUNICIPIO (INEGI)</th>\n",
              "      <th>REGION DE TRANSMISION</th>\n",
              "    </tr>\n",
              "  </thead>\n",
              "  <tbody>\n",
              "    <tr>\n",
              "      <th>0</th>\n",
              "      <td>BCA</td>\n",
              "      <td>BAJA CALIFORNIA</td>\n",
              "      <td>ENSENADA</td>\n",
              "      <td>07ACU-115</td>\n",
              "      <td>Acueducto La Mision</td>\n",
              "      <td>115.0</td>\n",
              "      <td>No Aplica</td>\n",
              "      <td>Indirectamente Modelada</td>\n",
              "      <td>No Aplica</td>\n",
              "      <td>No Aplica</td>\n",
              "      <td>COSTA</td>\n",
              "      <td>BAJA CALIFORNIA</td>\n",
              "      <td>ENSENADA</td>\n",
              "      <td>BAJA CALIFORNIA</td>\n",
              "      <td>2</td>\n",
              "      <td>BAJA CALIFORNIA</td>\n",
              "      <td>1</td>\n",
              "      <td>ENSENADA</td>\n",
              "      <td>ENSENADA</td>\n",
              "    </tr>\n",
              "    <tr>\n",
              "      <th>1</th>\n",
              "      <td>BCA</td>\n",
              "      <td>BAJA CALIFORNIA</td>\n",
              "      <td>ENSENADA</td>\n",
              "      <td>07AUE-115</td>\n",
              "      <td>Aguas Ensenada</td>\n",
              "      <td>115.0</td>\n",
              "      <td>No Aplica</td>\n",
              "      <td>Indirectamente Modelada</td>\n",
              "      <td>No Aplica</td>\n",
              "      <td>No Aplica</td>\n",
              "      <td>COSTA</td>\n",
              "      <td>BAJA CALIFORNIA</td>\n",
              "      <td>ENSENADA</td>\n",
              "      <td>BAJA CALIFORNIA</td>\n",
              "      <td>2</td>\n",
              "      <td>BAJA CALIFORNIA</td>\n",
              "      <td>1</td>\n",
              "      <td>ENSENADA</td>\n",
              "      <td>ENSENADA</td>\n",
              "    </tr>\n",
              "    <tr>\n",
              "      <th>2</th>\n",
              "      <td>BCA</td>\n",
              "      <td>BAJA CALIFORNIA</td>\n",
              "      <td>ENSENADA</td>\n",
              "      <td>07CIP-115</td>\n",
              "      <td>Cipres</td>\n",
              "      <td>115.0</td>\n",
              "      <td>Directamente Modelada</td>\n",
              "      <td>Indirectamente Modelada</td>\n",
              "      <td>Directamente Modelada</td>\n",
              "      <td>No Aplica</td>\n",
              "      <td>COSTA</td>\n",
              "      <td>BAJA CALIFORNIA</td>\n",
              "      <td>ENSENADA</td>\n",
              "      <td>BAJA CALIFORNIA</td>\n",
              "      <td>2</td>\n",
              "      <td>BAJA CALIFORNIA</td>\n",
              "      <td>1</td>\n",
              "      <td>ENSENADA</td>\n",
              "      <td>ENSENADA</td>\n",
              "    </tr>\n",
              "    <tr>\n",
              "      <th>3</th>\n",
              "      <td>BCA</td>\n",
              "      <td>BAJA CALIFORNIA</td>\n",
              "      <td>ENSENADA</td>\n",
              "      <td>07CME-115</td>\n",
              "      <td>Cemex</td>\n",
              "      <td>115.0</td>\n",
              "      <td>No Aplica</td>\n",
              "      <td>Indirectamente Modelada</td>\n",
              "      <td>No Aplica</td>\n",
              "      <td>No Aplica</td>\n",
              "      <td>COSTA</td>\n",
              "      <td>BAJA CALIFORNIA</td>\n",
              "      <td>ENSENADA</td>\n",
              "      <td>BAJA CALIFORNIA</td>\n",
              "      <td>2</td>\n",
              "      <td>BAJA CALIFORNIA</td>\n",
              "      <td>1</td>\n",
              "      <td>ENSENADA</td>\n",
              "      <td>ENSENADA</td>\n",
              "    </tr>\n",
              "    <tr>\n",
              "      <th>4</th>\n",
              "      <td>BCA</td>\n",
              "      <td>BAJA CALIFORNIA</td>\n",
              "      <td>ENSENADA</td>\n",
              "      <td>07COE-115</td>\n",
              "      <td>Colonet</td>\n",
              "      <td>115.0</td>\n",
              "      <td>No Aplica</td>\n",
              "      <td>Indirectamente Modelada</td>\n",
              "      <td>No Aplica</td>\n",
              "      <td>No Aplica</td>\n",
              "      <td>COSTA</td>\n",
              "      <td>BAJA CALIFORNIA</td>\n",
              "      <td>ENSENADA</td>\n",
              "      <td>BAJA CALIFORNIA</td>\n",
              "      <td>2</td>\n",
              "      <td>BAJA CALIFORNIA</td>\n",
              "      <td>1</td>\n",
              "      <td>ENSENADA</td>\n",
              "      <td>ENSENADA</td>\n",
              "    </tr>\n",
              "    <tr>\n",
              "      <th>...</th>\n",
              "      <td>...</td>\n",
              "      <td>...</td>\n",
              "      <td>...</td>\n",
              "      <td>...</td>\n",
              "      <td>...</td>\n",
              "      <td>...</td>\n",
              "      <td>...</td>\n",
              "      <td>...</td>\n",
              "      <td>...</td>\n",
              "      <td>...</td>\n",
              "      <td>...</td>\n",
              "      <td>...</td>\n",
              "      <td>...</td>\n",
              "      <td>...</td>\n",
              "      <td>...</td>\n",
              "      <td>...</td>\n",
              "      <td>...</td>\n",
              "      <td>...</td>\n",
              "      <td>...</td>\n",
              "    </tr>\n",
              "    <tr>\n",
              "      <th>2533</th>\n",
              "      <td>SIN</td>\n",
              "      <td>PENINSULAR</td>\n",
              "      <td>TICUL</td>\n",
              "      <td>08KBL-115</td>\n",
              "      <td>Kambul</td>\n",
              "      <td>115.0</td>\n",
              "      <td>Directamente Modelada</td>\n",
              "      <td>Indirectamente Modelada</td>\n",
              "      <td>Directamente Modelada</td>\n",
              "      <td>No Aplica</td>\n",
              "      <td>YUCATAN</td>\n",
              "      <td>PENINSULAR</td>\n",
              "      <td>TICUL</td>\n",
              "      <td>PENINSULAR</td>\n",
              "      <td>31</td>\n",
              "      <td>YUCATAN</td>\n",
              "      <td>52</td>\n",
              "      <td>MOTUL</td>\n",
              "      <td>MERIDA</td>\n",
              "    </tr>\n",
              "    <tr>\n",
              "      <th>2534</th>\n",
              "      <td>SIN</td>\n",
              "      <td>PENINSULAR</td>\n",
              "      <td>TICUL</td>\n",
              "      <td>08MAX-115</td>\n",
              "      <td>Maxcanu</td>\n",
              "      <td>115.0</td>\n",
              "      <td>No Aplica</td>\n",
              "      <td>Indirectamente Modelada</td>\n",
              "      <td>No Aplica</td>\n",
              "      <td>No Aplica</td>\n",
              "      <td>YUCATAN</td>\n",
              "      <td>PENINSULAR</td>\n",
              "      <td>TICUL</td>\n",
              "      <td>PENINSULAR</td>\n",
              "      <td>31</td>\n",
              "      <td>YUCATAN</td>\n",
              "      <td>48</td>\n",
              "      <td>MAXCANU</td>\n",
              "      <td>MERIDA</td>\n",
              "    </tr>\n",
              "    <tr>\n",
              "      <th>2535</th>\n",
              "      <td>SIN</td>\n",
              "      <td>PENINSULAR</td>\n",
              "      <td>TICUL</td>\n",
              "      <td>08TIU-115</td>\n",
              "      <td>Ticul</td>\n",
              "      <td>115.0</td>\n",
              "      <td>No Aplica</td>\n",
              "      <td>Indirectamente Modelada</td>\n",
              "      <td>No Aplica</td>\n",
              "      <td>No Aplica</td>\n",
              "      <td>YUCATAN</td>\n",
              "      <td>PENINSULAR</td>\n",
              "      <td>TICUL</td>\n",
              "      <td>PENINSULAR</td>\n",
              "      <td>31</td>\n",
              "      <td>YUCATAN</td>\n",
              "      <td>89</td>\n",
              "      <td>TICUL</td>\n",
              "      <td>MERIDA</td>\n",
              "    </tr>\n",
              "    <tr>\n",
              "      <th>2536</th>\n",
              "      <td>SIN</td>\n",
              "      <td>PENINSULAR</td>\n",
              "      <td>TICUL</td>\n",
              "      <td>08TKD-115</td>\n",
              "      <td>Tekax Dos</td>\n",
              "      <td>115.0</td>\n",
              "      <td>No Aplica</td>\n",
              "      <td>Indirectamente Modelada</td>\n",
              "      <td>No Aplica</td>\n",
              "      <td>No Aplica</td>\n",
              "      <td>YUCATAN</td>\n",
              "      <td>PENINSULAR</td>\n",
              "      <td>TICUL</td>\n",
              "      <td>PENINSULAR</td>\n",
              "      <td>31</td>\n",
              "      <td>YUCATAN</td>\n",
              "      <td>79</td>\n",
              "      <td>TEKAX</td>\n",
              "      <td>MERIDA</td>\n",
              "    </tr>\n",
              "    <tr>\n",
              "      <th>2537</th>\n",
              "      <td>SIN</td>\n",
              "      <td>PENINSULAR</td>\n",
              "      <td>TICUL</td>\n",
              "      <td>08TXM-115</td>\n",
              "      <td>Tixmehuac</td>\n",
              "      <td>115.0</td>\n",
              "      <td>No Aplica</td>\n",
              "      <td>Indirectamente Modelada</td>\n",
              "      <td>No Aplica</td>\n",
              "      <td>No Aplica</td>\n",
              "      <td>YUCATAN</td>\n",
              "      <td>PENINSULAR</td>\n",
              "      <td>TICUL</td>\n",
              "      <td>PENINSULAR</td>\n",
              "      <td>31</td>\n",
              "      <td>YUCATAN</td>\n",
              "      <td>94</td>\n",
              "      <td>TIXMEHUAC</td>\n",
              "      <td>MERIDA</td>\n",
              "    </tr>\n",
              "  </tbody>\n",
              "</table>\n",
              "<p>2538 rows × 19 columns</p>\n",
              "</div>"
            ],
            "text/plain": [
              "     SISTEMA CENTRO DE CONTROL REGIONAL  ... MUNICIPIO (INEGI) REGION DE TRANSMISION\n",
              "0        BCA            BAJA CALIFORNIA  ...          ENSENADA              ENSENADA\n",
              "1        BCA            BAJA CALIFORNIA  ...          ENSENADA              ENSENADA\n",
              "2        BCA            BAJA CALIFORNIA  ...          ENSENADA              ENSENADA\n",
              "3        BCA            BAJA CALIFORNIA  ...          ENSENADA              ENSENADA\n",
              "4        BCA            BAJA CALIFORNIA  ...          ENSENADA              ENSENADA\n",
              "...      ...                        ...  ...               ...                   ...\n",
              "2533     SIN                 PENINSULAR  ...             MOTUL                MERIDA\n",
              "2534     SIN                 PENINSULAR  ...           MAXCANU                MERIDA\n",
              "2535     SIN                 PENINSULAR  ...             TICUL                MERIDA\n",
              "2536     SIN                 PENINSULAR  ...             TEKAX                MERIDA\n",
              "2537     SIN                 PENINSULAR  ...         TIXMEHUAC                MERIDA\n",
              "\n",
              "[2538 rows x 19 columns]"
            ]
          },
          "metadata": {},
          "execution_count": 19
        }
      ]
    },
    {
      "cell_type": "markdown",
      "metadata": {
        "id": "pmCXHEltvRUM"
      },
      "source": [
        "Para mostrar solo las primeras filas del dataframe"
      ]
    },
    {
      "cell_type": "code",
      "metadata": {
        "colab": {
          "base_uri": "https://localhost:8080/",
          "height": 364
        },
        "id": "NtSBNFNMvVeF",
        "outputId": "17cde931-9a2d-4a39-b323-43759230b41e"
      },
      "source": [
        "nodos.head()"
      ],
      "execution_count": null,
      "outputs": [
        {
          "output_type": "execute_result",
          "data": {
            "text/html": [
              "<div>\n",
              "<style scoped>\n",
              "    .dataframe tbody tr th:only-of-type {\n",
              "        vertical-align: middle;\n",
              "    }\n",
              "\n",
              "    .dataframe tbody tr th {\n",
              "        vertical-align: top;\n",
              "    }\n",
              "\n",
              "    .dataframe thead th {\n",
              "        text-align: right;\n",
              "    }\n",
              "</style>\n",
              "<table border=\"1\" class=\"dataframe\">\n",
              "  <thead>\n",
              "    <tr style=\"text-align: right;\">\n",
              "      <th></th>\n",
              "      <th>SISTEMA</th>\n",
              "      <th>CENTRO DE CONTROL REGIONAL</th>\n",
              "      <th>ZONA DE CARGA</th>\n",
              "      <th>CLAVE</th>\n",
              "      <th>NOMBRE</th>\n",
              "      <th>NIVEL DE TENSIÓN (kV)</th>\n",
              "      <th>CARGA DIRECTAMENTE MODELADA</th>\n",
              "      <th>CARGA INDIRECTAMENTE MODELADA</th>\n",
              "      <th>GENERACIÓN DIRECTAMENTE MODELADA</th>\n",
              "      <th>GENERACIÓN INDIRECTAMENTE MODELADA</th>\n",
              "      <th>ZONA DE OPERACIÓN DE TRANSMISIÓN</th>\n",
              "      <th>GERENCIA REGIONAL DE TRANSMISIÓN</th>\n",
              "      <th>ZONA DE DISTRIBUCIÓN</th>\n",
              "      <th>GERENCIA DIVISIONAL DE DISTRIBUCIÓN</th>\n",
              "      <th>CLAVE DE ENTIDAD FEDERATIVA (INEGI)</th>\n",
              "      <th>ENTIDAD FEDERATIVA (INEGI)</th>\n",
              "      <th>CLAVE DE MUNICIPIO (INEGI)</th>\n",
              "      <th>MUNICIPIO (INEGI)</th>\n",
              "      <th>REGION DE TRANSMISION</th>\n",
              "    </tr>\n",
              "  </thead>\n",
              "  <tbody>\n",
              "    <tr>\n",
              "      <th>0</th>\n",
              "      <td>BCA</td>\n",
              "      <td>BAJA CALIFORNIA</td>\n",
              "      <td>ENSENADA</td>\n",
              "      <td>07ACU-115</td>\n",
              "      <td>Acueducto La Mision</td>\n",
              "      <td>115.0</td>\n",
              "      <td>No Aplica</td>\n",
              "      <td>Indirectamente Modelada</td>\n",
              "      <td>No Aplica</td>\n",
              "      <td>No Aplica</td>\n",
              "      <td>COSTA</td>\n",
              "      <td>BAJA CALIFORNIA</td>\n",
              "      <td>ENSENADA</td>\n",
              "      <td>BAJA CALIFORNIA</td>\n",
              "      <td>2</td>\n",
              "      <td>BAJA CALIFORNIA</td>\n",
              "      <td>1</td>\n",
              "      <td>ENSENADA</td>\n",
              "      <td>ENSENADA</td>\n",
              "    </tr>\n",
              "    <tr>\n",
              "      <th>1</th>\n",
              "      <td>BCA</td>\n",
              "      <td>BAJA CALIFORNIA</td>\n",
              "      <td>ENSENADA</td>\n",
              "      <td>07AUE-115</td>\n",
              "      <td>Aguas Ensenada</td>\n",
              "      <td>115.0</td>\n",
              "      <td>No Aplica</td>\n",
              "      <td>Indirectamente Modelada</td>\n",
              "      <td>No Aplica</td>\n",
              "      <td>No Aplica</td>\n",
              "      <td>COSTA</td>\n",
              "      <td>BAJA CALIFORNIA</td>\n",
              "      <td>ENSENADA</td>\n",
              "      <td>BAJA CALIFORNIA</td>\n",
              "      <td>2</td>\n",
              "      <td>BAJA CALIFORNIA</td>\n",
              "      <td>1</td>\n",
              "      <td>ENSENADA</td>\n",
              "      <td>ENSENADA</td>\n",
              "    </tr>\n",
              "    <tr>\n",
              "      <th>2</th>\n",
              "      <td>BCA</td>\n",
              "      <td>BAJA CALIFORNIA</td>\n",
              "      <td>ENSENADA</td>\n",
              "      <td>07CIP-115</td>\n",
              "      <td>Cipres</td>\n",
              "      <td>115.0</td>\n",
              "      <td>Directamente Modelada</td>\n",
              "      <td>Indirectamente Modelada</td>\n",
              "      <td>Directamente Modelada</td>\n",
              "      <td>No Aplica</td>\n",
              "      <td>COSTA</td>\n",
              "      <td>BAJA CALIFORNIA</td>\n",
              "      <td>ENSENADA</td>\n",
              "      <td>BAJA CALIFORNIA</td>\n",
              "      <td>2</td>\n",
              "      <td>BAJA CALIFORNIA</td>\n",
              "      <td>1</td>\n",
              "      <td>ENSENADA</td>\n",
              "      <td>ENSENADA</td>\n",
              "    </tr>\n",
              "    <tr>\n",
              "      <th>3</th>\n",
              "      <td>BCA</td>\n",
              "      <td>BAJA CALIFORNIA</td>\n",
              "      <td>ENSENADA</td>\n",
              "      <td>07CME-115</td>\n",
              "      <td>Cemex</td>\n",
              "      <td>115.0</td>\n",
              "      <td>No Aplica</td>\n",
              "      <td>Indirectamente Modelada</td>\n",
              "      <td>No Aplica</td>\n",
              "      <td>No Aplica</td>\n",
              "      <td>COSTA</td>\n",
              "      <td>BAJA CALIFORNIA</td>\n",
              "      <td>ENSENADA</td>\n",
              "      <td>BAJA CALIFORNIA</td>\n",
              "      <td>2</td>\n",
              "      <td>BAJA CALIFORNIA</td>\n",
              "      <td>1</td>\n",
              "      <td>ENSENADA</td>\n",
              "      <td>ENSENADA</td>\n",
              "    </tr>\n",
              "    <tr>\n",
              "      <th>4</th>\n",
              "      <td>BCA</td>\n",
              "      <td>BAJA CALIFORNIA</td>\n",
              "      <td>ENSENADA</td>\n",
              "      <td>07COE-115</td>\n",
              "      <td>Colonet</td>\n",
              "      <td>115.0</td>\n",
              "      <td>No Aplica</td>\n",
              "      <td>Indirectamente Modelada</td>\n",
              "      <td>No Aplica</td>\n",
              "      <td>No Aplica</td>\n",
              "      <td>COSTA</td>\n",
              "      <td>BAJA CALIFORNIA</td>\n",
              "      <td>ENSENADA</td>\n",
              "      <td>BAJA CALIFORNIA</td>\n",
              "      <td>2</td>\n",
              "      <td>BAJA CALIFORNIA</td>\n",
              "      <td>1</td>\n",
              "      <td>ENSENADA</td>\n",
              "      <td>ENSENADA</td>\n",
              "    </tr>\n",
              "  </tbody>\n",
              "</table>\n",
              "</div>"
            ],
            "text/plain": [
              "  SISTEMA CENTRO DE CONTROL REGIONAL  ... MUNICIPIO (INEGI) REGION DE TRANSMISION\n",
              "0     BCA            BAJA CALIFORNIA  ...          ENSENADA              ENSENADA\n",
              "1     BCA            BAJA CALIFORNIA  ...          ENSENADA              ENSENADA\n",
              "2     BCA            BAJA CALIFORNIA  ...          ENSENADA              ENSENADA\n",
              "3     BCA            BAJA CALIFORNIA  ...          ENSENADA              ENSENADA\n",
              "4     BCA            BAJA CALIFORNIA  ...          ENSENADA              ENSENADA\n",
              "\n",
              "[5 rows x 19 columns]"
            ]
          },
          "metadata": {},
          "execution_count": 20
        }
      ]
    },
    {
      "cell_type": "markdown",
      "metadata": {
        "id": "HemcnGIpva53"
      },
      "source": [
        "Para mostrar las ultimas filas del dataframe"
      ]
    },
    {
      "cell_type": "code",
      "metadata": {
        "colab": {
          "base_uri": "https://localhost:8080/",
          "height": 364
        },
        "id": "X10C_kGDvcxr",
        "outputId": "6f0296a1-54af-4d1c-bde8-de53651ef24a"
      },
      "source": [
        "nodos.tail()"
      ],
      "execution_count": null,
      "outputs": [
        {
          "output_type": "execute_result",
          "data": {
            "text/html": [
              "<div>\n",
              "<style scoped>\n",
              "    .dataframe tbody tr th:only-of-type {\n",
              "        vertical-align: middle;\n",
              "    }\n",
              "\n",
              "    .dataframe tbody tr th {\n",
              "        vertical-align: top;\n",
              "    }\n",
              "\n",
              "    .dataframe thead th {\n",
              "        text-align: right;\n",
              "    }\n",
              "</style>\n",
              "<table border=\"1\" class=\"dataframe\">\n",
              "  <thead>\n",
              "    <tr style=\"text-align: right;\">\n",
              "      <th></th>\n",
              "      <th>SISTEMA</th>\n",
              "      <th>CENTRO DE CONTROL REGIONAL</th>\n",
              "      <th>ZONA DE CARGA</th>\n",
              "      <th>CLAVE</th>\n",
              "      <th>NOMBRE</th>\n",
              "      <th>NIVEL DE TENSIÓN (kV)</th>\n",
              "      <th>CARGA DIRECTAMENTE MODELADA</th>\n",
              "      <th>CARGA INDIRECTAMENTE MODELADA</th>\n",
              "      <th>GENERACIÓN DIRECTAMENTE MODELADA</th>\n",
              "      <th>GENERACIÓN INDIRECTAMENTE MODELADA</th>\n",
              "      <th>ZONA DE OPERACIÓN DE TRANSMISIÓN</th>\n",
              "      <th>GERENCIA REGIONAL DE TRANSMISIÓN</th>\n",
              "      <th>ZONA DE DISTRIBUCIÓN</th>\n",
              "      <th>GERENCIA DIVISIONAL DE DISTRIBUCIÓN</th>\n",
              "      <th>CLAVE DE ENTIDAD FEDERATIVA (INEGI)</th>\n",
              "      <th>ENTIDAD FEDERATIVA (INEGI)</th>\n",
              "      <th>CLAVE DE MUNICIPIO (INEGI)</th>\n",
              "      <th>MUNICIPIO (INEGI)</th>\n",
              "      <th>REGION DE TRANSMISION</th>\n",
              "    </tr>\n",
              "  </thead>\n",
              "  <tbody>\n",
              "    <tr>\n",
              "      <th>2533</th>\n",
              "      <td>SIN</td>\n",
              "      <td>PENINSULAR</td>\n",
              "      <td>TICUL</td>\n",
              "      <td>08KBL-115</td>\n",
              "      <td>Kambul</td>\n",
              "      <td>115.0</td>\n",
              "      <td>Directamente Modelada</td>\n",
              "      <td>Indirectamente Modelada</td>\n",
              "      <td>Directamente Modelada</td>\n",
              "      <td>No Aplica</td>\n",
              "      <td>YUCATAN</td>\n",
              "      <td>PENINSULAR</td>\n",
              "      <td>TICUL</td>\n",
              "      <td>PENINSULAR</td>\n",
              "      <td>31</td>\n",
              "      <td>YUCATAN</td>\n",
              "      <td>52</td>\n",
              "      <td>MOTUL</td>\n",
              "      <td>MERIDA</td>\n",
              "    </tr>\n",
              "    <tr>\n",
              "      <th>2534</th>\n",
              "      <td>SIN</td>\n",
              "      <td>PENINSULAR</td>\n",
              "      <td>TICUL</td>\n",
              "      <td>08MAX-115</td>\n",
              "      <td>Maxcanu</td>\n",
              "      <td>115.0</td>\n",
              "      <td>No Aplica</td>\n",
              "      <td>Indirectamente Modelada</td>\n",
              "      <td>No Aplica</td>\n",
              "      <td>No Aplica</td>\n",
              "      <td>YUCATAN</td>\n",
              "      <td>PENINSULAR</td>\n",
              "      <td>TICUL</td>\n",
              "      <td>PENINSULAR</td>\n",
              "      <td>31</td>\n",
              "      <td>YUCATAN</td>\n",
              "      <td>48</td>\n",
              "      <td>MAXCANU</td>\n",
              "      <td>MERIDA</td>\n",
              "    </tr>\n",
              "    <tr>\n",
              "      <th>2535</th>\n",
              "      <td>SIN</td>\n",
              "      <td>PENINSULAR</td>\n",
              "      <td>TICUL</td>\n",
              "      <td>08TIU-115</td>\n",
              "      <td>Ticul</td>\n",
              "      <td>115.0</td>\n",
              "      <td>No Aplica</td>\n",
              "      <td>Indirectamente Modelada</td>\n",
              "      <td>No Aplica</td>\n",
              "      <td>No Aplica</td>\n",
              "      <td>YUCATAN</td>\n",
              "      <td>PENINSULAR</td>\n",
              "      <td>TICUL</td>\n",
              "      <td>PENINSULAR</td>\n",
              "      <td>31</td>\n",
              "      <td>YUCATAN</td>\n",
              "      <td>89</td>\n",
              "      <td>TICUL</td>\n",
              "      <td>MERIDA</td>\n",
              "    </tr>\n",
              "    <tr>\n",
              "      <th>2536</th>\n",
              "      <td>SIN</td>\n",
              "      <td>PENINSULAR</td>\n",
              "      <td>TICUL</td>\n",
              "      <td>08TKD-115</td>\n",
              "      <td>Tekax Dos</td>\n",
              "      <td>115.0</td>\n",
              "      <td>No Aplica</td>\n",
              "      <td>Indirectamente Modelada</td>\n",
              "      <td>No Aplica</td>\n",
              "      <td>No Aplica</td>\n",
              "      <td>YUCATAN</td>\n",
              "      <td>PENINSULAR</td>\n",
              "      <td>TICUL</td>\n",
              "      <td>PENINSULAR</td>\n",
              "      <td>31</td>\n",
              "      <td>YUCATAN</td>\n",
              "      <td>79</td>\n",
              "      <td>TEKAX</td>\n",
              "      <td>MERIDA</td>\n",
              "    </tr>\n",
              "    <tr>\n",
              "      <th>2537</th>\n",
              "      <td>SIN</td>\n",
              "      <td>PENINSULAR</td>\n",
              "      <td>TICUL</td>\n",
              "      <td>08TXM-115</td>\n",
              "      <td>Tixmehuac</td>\n",
              "      <td>115.0</td>\n",
              "      <td>No Aplica</td>\n",
              "      <td>Indirectamente Modelada</td>\n",
              "      <td>No Aplica</td>\n",
              "      <td>No Aplica</td>\n",
              "      <td>YUCATAN</td>\n",
              "      <td>PENINSULAR</td>\n",
              "      <td>TICUL</td>\n",
              "      <td>PENINSULAR</td>\n",
              "      <td>31</td>\n",
              "      <td>YUCATAN</td>\n",
              "      <td>94</td>\n",
              "      <td>TIXMEHUAC</td>\n",
              "      <td>MERIDA</td>\n",
              "    </tr>\n",
              "  </tbody>\n",
              "</table>\n",
              "</div>"
            ],
            "text/plain": [
              "     SISTEMA CENTRO DE CONTROL REGIONAL  ... MUNICIPIO (INEGI) REGION DE TRANSMISION\n",
              "2533     SIN                 PENINSULAR  ...             MOTUL                MERIDA\n",
              "2534     SIN                 PENINSULAR  ...           MAXCANU                MERIDA\n",
              "2535     SIN                 PENINSULAR  ...             TICUL                MERIDA\n",
              "2536     SIN                 PENINSULAR  ...             TEKAX                MERIDA\n",
              "2537     SIN                 PENINSULAR  ...         TIXMEHUAC                MERIDA\n",
              "\n",
              "[5 rows x 19 columns]"
            ]
          },
          "metadata": {},
          "execution_count": 21
        }
      ]
    },
    {
      "cell_type": "code",
      "metadata": {
        "colab": {
          "base_uri": "https://localhost:8080/"
        },
        "id": "Y3mnZg6kvkFP",
        "outputId": "9beeb006-98b4-464f-b81d-eb0101a97ebc"
      },
      "source": [
        "nodos.columns"
      ],
      "execution_count": null,
      "outputs": [
        {
          "output_type": "execute_result",
          "data": {
            "text/plain": [
              "Index(['SISTEMA', 'CENTRO DE CONTROL REGIONAL', 'ZONA DE CARGA', 'CLAVE',\n",
              "       'NOMBRE', 'NIVEL DE TENSIÓN (kV)', 'CARGA DIRECTAMENTE MODELADA',\n",
              "       'CARGA INDIRECTAMENTE MODELADA', 'GENERACIÓN DIRECTAMENTE MODELADA',\n",
              "       'GENERACIÓN INDIRECTAMENTE MODELADA',\n",
              "       'ZONA DE OPERACIÓN DE TRANSMISIÓN', 'GERENCIA REGIONAL DE TRANSMISIÓN',\n",
              "       'ZONA DE DISTRIBUCIÓN', 'GERENCIA DIVISIONAL DE DISTRIBUCIÓN',\n",
              "       'CLAVE DE ENTIDAD FEDERATIVA (INEGI)', 'ENTIDAD FEDERATIVA (INEGI)',\n",
              "       'CLAVE DE MUNICIPIO (INEGI)', 'MUNICIPIO (INEGI)',\n",
              "       'REGION DE TRANSMISION'],\n",
              "      dtype='object')"
            ]
          },
          "metadata": {},
          "execution_count": 22
        }
      ]
    },
    {
      "cell_type": "markdown",
      "metadata": {
        "id": "1wTyI6WVwOld"
      },
      "source": [
        "para visualizar los datos de una sola columna"
      ]
    },
    {
      "cell_type": "code",
      "metadata": {
        "colab": {
          "base_uri": "https://localhost:8080/"
        },
        "id": "optW3Y0PwK9Q",
        "outputId": "e8f48c4f-794f-47fb-8b72-18889dba85f2"
      },
      "source": [
        "nodos.NOMBRE"
      ],
      "execution_count": null,
      "outputs": [
        {
          "output_type": "execute_result",
          "data": {
            "text/plain": [
              "0       Acueducto La Mision\n",
              "1            Aguas Ensenada\n",
              "2                    Cipres\n",
              "3                     Cemex\n",
              "4                   Colonet\n",
              "               ...         \n",
              "2533                 Kambul\n",
              "2534                Maxcanu\n",
              "2535                  Ticul\n",
              "2536              Tekax Dos\n",
              "2537              Tixmehuac\n",
              "Name: NOMBRE, Length: 2538, dtype: object"
            ]
          },
          "metadata": {},
          "execution_count": 25
        }
      ]
    },
    {
      "cell_type": "markdown",
      "metadata": {
        "id": "8LoJzMF5wmZ8"
      },
      "source": [
        "Si nuestra columna tiene espacios, debemos o una de dos, cambiar los nombres de las columnas por nombres cortos o sencillos, ó hacer uso del siguiente método"
      ]
    },
    {
      "cell_type": "code",
      "metadata": {
        "colab": {
          "base_uri": "https://localhost:8080/"
        },
        "id": "VPBHGkLqwjHH",
        "outputId": "7daa5a52-4b09-415e-b7c1-bcc8191c5ef0"
      },
      "source": [
        "nodos['ZONA DE CARGA']"
      ],
      "execution_count": null,
      "outputs": [
        {
          "output_type": "execute_result",
          "data": {
            "text/plain": [
              "0       ENSENADA\n",
              "1       ENSENADA\n",
              "2       ENSENADA\n",
              "3       ENSENADA\n",
              "4       ENSENADA\n",
              "          ...   \n",
              "2533       TICUL\n",
              "2534       TICUL\n",
              "2535       TICUL\n",
              "2536       TICUL\n",
              "2537       TICUL\n",
              "Name: ZONA DE CARGA, Length: 2538, dtype: object"
            ]
          },
          "metadata": {},
          "execution_count": 26
        }
      ]
    },
    {
      "cell_type": "markdown",
      "metadata": {
        "id": "NHGMu4GLwzMQ"
      },
      "source": [
        "Obtenemos una lista de las zonas de carga de México"
      ]
    },
    {
      "cell_type": "code",
      "metadata": {
        "colab": {
          "base_uri": "https://localhost:8080/"
        },
        "id": "qyDQUEevw-nA",
        "outputId": "f5dfa4da-3f6b-47aa-a432-30f42b3b8183"
      },
      "source": [
        "nodos['ZONA DE CARGA'].unique()"
      ],
      "execution_count": null,
      "outputs": [
        {
          "output_type": "execute_result",
          "data": {
            "text/plain": [
              "array(['ENSENADA', 'MEXICALI', 'SANLUIS', 'TIJUANA', 'No Aplica',\n",
              "       'CONSTITUCION', 'LA PAZ', 'LOS CABOS', 'CENTRO ORIENTE',\n",
              "       'CENTRO SUR', 'LAZARO CARDENAS', 'VDM CENTRO', 'VDM NORTE',\n",
              "       'VDM SUR', 'HUASTECA', 'HUEJUTLA', 'MATAMOROS', 'MONCLOVA',\n",
              "       'MONTEMORELOS', 'MONTERREY', 'NUEVO LAREDO', 'PIEDRAS NEGRAS',\n",
              "       'REYNOSA', 'SABINAS', 'SALTILLO', 'TAMPICO', 'VICTORIA', 'CABORCA',\n",
              "       'CULIACAN', 'GUASAVE', 'GUAYMAS', 'HERMOSILLO', 'LOS MOCHIS',\n",
              "       'MAZATLAN', 'NAVOJOA', 'NOGALES', 'OBREGON', 'CAMARGO',\n",
              "       'CASAS GRANDES', 'CHIHUAHUA', 'CUAUHTEMOC', 'DURANGO', 'JUAREZ',\n",
              "       'LAGUNA', 'AGUASCALIENTES', 'APATZINGAN', 'CELAYA', 'CIENEGA',\n",
              "       'COLIMA', 'FRESNILLO', 'GUADALAJARA', 'IRAPUATO', 'IXMIQUILPAN',\n",
              "       'JIQUILPAN', 'LEON', 'LOS ALTOS', 'MANZANILLO', 'MATEHUALA',\n",
              "       'MINAS', 'MORELIA', 'QUERETARO', 'SALVATIERRA', 'SAN JUAN DEL RIO',\n",
              "       'SAN LUIS POTOSI', 'TEPIC VALLARTA', 'URUAPAN', 'ZACAPU',\n",
              "       'ZACATECAS', 'ZAMORA', 'ZAPOTLAN', 'ACAPULCO', 'CHILPANCINGO',\n",
              "       'CHONTALPA', 'COATZACOALCOS', 'CORDOBA', 'CUAUTLA', 'CUERNAVACA',\n",
              "       'HUAJUAPAN', 'HUATULCO', 'IGUALA', 'IZUCAR', 'LOS RIOS',\n",
              "       'LOS TUXTLAS', 'MORELOS', 'OAXACA', 'ORIZABA', 'POZA RICA',\n",
              "       'PUEBLA', 'SAN CRISTOBAL', 'SAN MARTIN', 'TAPACHULA',\n",
              "       'TECAMACHALCO', 'TEHUACAN', 'TEHUANTEPEC', 'TEZIUTLAN', 'TLAXCALA',\n",
              "       'TUXTLA', 'VERACRUZ', 'VILLAHERMOSA', 'XALAPA', 'ZIHUATANEJO',\n",
              "       'CAMPECHE', 'CANCUN', 'CARMEN', 'CHETUMAL', 'MERIDA',\n",
              "       'MOTUL TIZIMIN', 'RIVIERA MAYA', 'TICUL'], dtype=object)"
            ]
          },
          "metadata": {},
          "execution_count": 27
        }
      ]
    },
    {
      "cell_type": "markdown",
      "metadata": {
        "id": "pyTzCR9MxLWB"
      },
      "source": [
        "Cuantas zonas de carga existen?"
      ]
    },
    {
      "cell_type": "code",
      "metadata": {
        "colab": {
          "base_uri": "https://localhost:8080/"
        },
        "id": "zgLxLeYHxNPP",
        "outputId": "5e38294c-c53b-4a77-b321-d734a0cab918"
      },
      "source": [
        "len(nodos['ZONA DE CARGA'].unique())"
      ],
      "execution_count": null,
      "outputs": [
        {
          "output_type": "execute_result",
          "data": {
            "text/plain": [
              "109"
            ]
          },
          "metadata": {},
          "execution_count": 29
        }
      ]
    },
    {
      "cell_type": "markdown",
      "metadata": {
        "id": "WQNMSlxwyNVB"
      },
      "source": [
        "Obtenemos una lista con los distintos niveles de tensión que se manejan en las subestaciones de México"
      ]
    },
    {
      "cell_type": "code",
      "metadata": {
        "colab": {
          "base_uri": "https://localhost:8080/"
        },
        "id": "g5HcD5B6yrt1",
        "outputId": "345e74de-1d0f-4d6f-e129-756e3fce6ce6"
      },
      "source": [
        "nodos['NIVEL DE TENSIÓN (kV)'].unique()"
      ],
      "execution_count": null,
      "outputs": [
        {
          "output_type": "execute_result",
          "data": {
            "text/plain": [
              "array([115. , 230. ,  69. , 161. ,  85. , 400. , 138. ,  34.5])"
            ]
          },
          "metadata": {},
          "execution_count": 36
        }
      ]
    },
    {
      "cell_type": "markdown",
      "metadata": {
        "id": "AL7tL3kazMM_"
      },
      "source": [
        "## Pandas: Funciones para filtrar y seleccionar datos"
      ]
    },
    {
      "cell_type": "markdown",
      "metadata": {
        "id": "4C4aLzJdzQra"
      },
      "source": [
        "Un dataframe esta compuesto por filas y columnas, cada fila tiene asociado un identificador (ID/Index). En el inicio cuando leímos el dataframes ```nodos```, no indicamos un argumento en la función ```pandas.read_excel()```. Importamos pandas bajo el alias ```pd```"
      ]
    },
    {
      "cell_type": "code",
      "metadata": {
        "id": "zNVZZAu0zQGj"
      },
      "source": [
        "import pandas as pd"
      ],
      "execution_count": null,
      "outputs": []
    },
    {
      "cell_type": "code",
      "metadata": {
        "colab": {
          "base_uri": "https://localhost:8080/",
          "height": 698
        },
        "id": "B2kNvY8Ozw5u",
        "outputId": "8cd26583-602a-4c1d-902d-70750960c530"
      },
      "source": [
        "nodos = pd.read_excel('Nodos.xlsx',index_col='CLAVE')\n",
        "nodos"
      ],
      "execution_count": null,
      "outputs": [
        {
          "output_type": "execute_result",
          "data": {
            "text/html": [
              "<div>\n",
              "<style scoped>\n",
              "    .dataframe tbody tr th:only-of-type {\n",
              "        vertical-align: middle;\n",
              "    }\n",
              "\n",
              "    .dataframe tbody tr th {\n",
              "        vertical-align: top;\n",
              "    }\n",
              "\n",
              "    .dataframe thead th {\n",
              "        text-align: right;\n",
              "    }\n",
              "</style>\n",
              "<table border=\"1\" class=\"dataframe\">\n",
              "  <thead>\n",
              "    <tr style=\"text-align: right;\">\n",
              "      <th></th>\n",
              "      <th>SISTEMA</th>\n",
              "      <th>CENTRO DE CONTROL REGIONAL</th>\n",
              "      <th>ZONA DE CARGA</th>\n",
              "      <th>NOMBRE</th>\n",
              "      <th>NIVEL DE TENSIÓN (kV)</th>\n",
              "      <th>CARGA DIRECTAMENTE MODELADA</th>\n",
              "      <th>CARGA INDIRECTAMENTE MODELADA</th>\n",
              "      <th>GENERACIÓN DIRECTAMENTE MODELADA</th>\n",
              "      <th>GENERACIÓN INDIRECTAMENTE MODELADA</th>\n",
              "      <th>ZONA DE OPERACIÓN DE TRANSMISIÓN</th>\n",
              "      <th>GERENCIA REGIONAL DE TRANSMISIÓN</th>\n",
              "      <th>ZONA DE DISTRIBUCIÓN</th>\n",
              "      <th>GERENCIA DIVISIONAL DE DISTRIBUCIÓN</th>\n",
              "      <th>CLAVE DE ENTIDAD FEDERATIVA (INEGI)</th>\n",
              "      <th>ENTIDAD FEDERATIVA (INEGI)</th>\n",
              "      <th>CLAVE DE MUNICIPIO (INEGI)</th>\n",
              "      <th>MUNICIPIO (INEGI)</th>\n",
              "      <th>REGION DE TRANSMISION</th>\n",
              "    </tr>\n",
              "    <tr>\n",
              "      <th>CLAVE</th>\n",
              "      <th></th>\n",
              "      <th></th>\n",
              "      <th></th>\n",
              "      <th></th>\n",
              "      <th></th>\n",
              "      <th></th>\n",
              "      <th></th>\n",
              "      <th></th>\n",
              "      <th></th>\n",
              "      <th></th>\n",
              "      <th></th>\n",
              "      <th></th>\n",
              "      <th></th>\n",
              "      <th></th>\n",
              "      <th></th>\n",
              "      <th></th>\n",
              "      <th></th>\n",
              "      <th></th>\n",
              "    </tr>\n",
              "  </thead>\n",
              "  <tbody>\n",
              "    <tr>\n",
              "      <th>07ACU-115</th>\n",
              "      <td>BCA</td>\n",
              "      <td>BAJA CALIFORNIA</td>\n",
              "      <td>ENSENADA</td>\n",
              "      <td>Acueducto La Mision</td>\n",
              "      <td>115.0</td>\n",
              "      <td>No Aplica</td>\n",
              "      <td>Indirectamente Modelada</td>\n",
              "      <td>No Aplica</td>\n",
              "      <td>No Aplica</td>\n",
              "      <td>COSTA</td>\n",
              "      <td>BAJA CALIFORNIA</td>\n",
              "      <td>ENSENADA</td>\n",
              "      <td>BAJA CALIFORNIA</td>\n",
              "      <td>2</td>\n",
              "      <td>BAJA CALIFORNIA</td>\n",
              "      <td>1</td>\n",
              "      <td>ENSENADA</td>\n",
              "      <td>ENSENADA</td>\n",
              "    </tr>\n",
              "    <tr>\n",
              "      <th>07AUE-115</th>\n",
              "      <td>BCA</td>\n",
              "      <td>BAJA CALIFORNIA</td>\n",
              "      <td>ENSENADA</td>\n",
              "      <td>Aguas Ensenada</td>\n",
              "      <td>115.0</td>\n",
              "      <td>No Aplica</td>\n",
              "      <td>Indirectamente Modelada</td>\n",
              "      <td>No Aplica</td>\n",
              "      <td>No Aplica</td>\n",
              "      <td>COSTA</td>\n",
              "      <td>BAJA CALIFORNIA</td>\n",
              "      <td>ENSENADA</td>\n",
              "      <td>BAJA CALIFORNIA</td>\n",
              "      <td>2</td>\n",
              "      <td>BAJA CALIFORNIA</td>\n",
              "      <td>1</td>\n",
              "      <td>ENSENADA</td>\n",
              "      <td>ENSENADA</td>\n",
              "    </tr>\n",
              "    <tr>\n",
              "      <th>07CIP-115</th>\n",
              "      <td>BCA</td>\n",
              "      <td>BAJA CALIFORNIA</td>\n",
              "      <td>ENSENADA</td>\n",
              "      <td>Cipres</td>\n",
              "      <td>115.0</td>\n",
              "      <td>Directamente Modelada</td>\n",
              "      <td>Indirectamente Modelada</td>\n",
              "      <td>Directamente Modelada</td>\n",
              "      <td>No Aplica</td>\n",
              "      <td>COSTA</td>\n",
              "      <td>BAJA CALIFORNIA</td>\n",
              "      <td>ENSENADA</td>\n",
              "      <td>BAJA CALIFORNIA</td>\n",
              "      <td>2</td>\n",
              "      <td>BAJA CALIFORNIA</td>\n",
              "      <td>1</td>\n",
              "      <td>ENSENADA</td>\n",
              "      <td>ENSENADA</td>\n",
              "    </tr>\n",
              "    <tr>\n",
              "      <th>07CME-115</th>\n",
              "      <td>BCA</td>\n",
              "      <td>BAJA CALIFORNIA</td>\n",
              "      <td>ENSENADA</td>\n",
              "      <td>Cemex</td>\n",
              "      <td>115.0</td>\n",
              "      <td>No Aplica</td>\n",
              "      <td>Indirectamente Modelada</td>\n",
              "      <td>No Aplica</td>\n",
              "      <td>No Aplica</td>\n",
              "      <td>COSTA</td>\n",
              "      <td>BAJA CALIFORNIA</td>\n",
              "      <td>ENSENADA</td>\n",
              "      <td>BAJA CALIFORNIA</td>\n",
              "      <td>2</td>\n",
              "      <td>BAJA CALIFORNIA</td>\n",
              "      <td>1</td>\n",
              "      <td>ENSENADA</td>\n",
              "      <td>ENSENADA</td>\n",
              "    </tr>\n",
              "    <tr>\n",
              "      <th>07COE-115</th>\n",
              "      <td>BCA</td>\n",
              "      <td>BAJA CALIFORNIA</td>\n",
              "      <td>ENSENADA</td>\n",
              "      <td>Colonet</td>\n",
              "      <td>115.0</td>\n",
              "      <td>No Aplica</td>\n",
              "      <td>Indirectamente Modelada</td>\n",
              "      <td>No Aplica</td>\n",
              "      <td>No Aplica</td>\n",
              "      <td>COSTA</td>\n",
              "      <td>BAJA CALIFORNIA</td>\n",
              "      <td>ENSENADA</td>\n",
              "      <td>BAJA CALIFORNIA</td>\n",
              "      <td>2</td>\n",
              "      <td>BAJA CALIFORNIA</td>\n",
              "      <td>1</td>\n",
              "      <td>ENSENADA</td>\n",
              "      <td>ENSENADA</td>\n",
              "    </tr>\n",
              "    <tr>\n",
              "      <th>...</th>\n",
              "      <td>...</td>\n",
              "      <td>...</td>\n",
              "      <td>...</td>\n",
              "      <td>...</td>\n",
              "      <td>...</td>\n",
              "      <td>...</td>\n",
              "      <td>...</td>\n",
              "      <td>...</td>\n",
              "      <td>...</td>\n",
              "      <td>...</td>\n",
              "      <td>...</td>\n",
              "      <td>...</td>\n",
              "      <td>...</td>\n",
              "      <td>...</td>\n",
              "      <td>...</td>\n",
              "      <td>...</td>\n",
              "      <td>...</td>\n",
              "      <td>...</td>\n",
              "    </tr>\n",
              "    <tr>\n",
              "      <th>08KBL-115</th>\n",
              "      <td>SIN</td>\n",
              "      <td>PENINSULAR</td>\n",
              "      <td>TICUL</td>\n",
              "      <td>Kambul</td>\n",
              "      <td>115.0</td>\n",
              "      <td>Directamente Modelada</td>\n",
              "      <td>Indirectamente Modelada</td>\n",
              "      <td>Directamente Modelada</td>\n",
              "      <td>No Aplica</td>\n",
              "      <td>YUCATAN</td>\n",
              "      <td>PENINSULAR</td>\n",
              "      <td>TICUL</td>\n",
              "      <td>PENINSULAR</td>\n",
              "      <td>31</td>\n",
              "      <td>YUCATAN</td>\n",
              "      <td>52</td>\n",
              "      <td>MOTUL</td>\n",
              "      <td>MERIDA</td>\n",
              "    </tr>\n",
              "    <tr>\n",
              "      <th>08MAX-115</th>\n",
              "      <td>SIN</td>\n",
              "      <td>PENINSULAR</td>\n",
              "      <td>TICUL</td>\n",
              "      <td>Maxcanu</td>\n",
              "      <td>115.0</td>\n",
              "      <td>No Aplica</td>\n",
              "      <td>Indirectamente Modelada</td>\n",
              "      <td>No Aplica</td>\n",
              "      <td>No Aplica</td>\n",
              "      <td>YUCATAN</td>\n",
              "      <td>PENINSULAR</td>\n",
              "      <td>TICUL</td>\n",
              "      <td>PENINSULAR</td>\n",
              "      <td>31</td>\n",
              "      <td>YUCATAN</td>\n",
              "      <td>48</td>\n",
              "      <td>MAXCANU</td>\n",
              "      <td>MERIDA</td>\n",
              "    </tr>\n",
              "    <tr>\n",
              "      <th>08TIU-115</th>\n",
              "      <td>SIN</td>\n",
              "      <td>PENINSULAR</td>\n",
              "      <td>TICUL</td>\n",
              "      <td>Ticul</td>\n",
              "      <td>115.0</td>\n",
              "      <td>No Aplica</td>\n",
              "      <td>Indirectamente Modelada</td>\n",
              "      <td>No Aplica</td>\n",
              "      <td>No Aplica</td>\n",
              "      <td>YUCATAN</td>\n",
              "      <td>PENINSULAR</td>\n",
              "      <td>TICUL</td>\n",
              "      <td>PENINSULAR</td>\n",
              "      <td>31</td>\n",
              "      <td>YUCATAN</td>\n",
              "      <td>89</td>\n",
              "      <td>TICUL</td>\n",
              "      <td>MERIDA</td>\n",
              "    </tr>\n",
              "    <tr>\n",
              "      <th>08TKD-115</th>\n",
              "      <td>SIN</td>\n",
              "      <td>PENINSULAR</td>\n",
              "      <td>TICUL</td>\n",
              "      <td>Tekax Dos</td>\n",
              "      <td>115.0</td>\n",
              "      <td>No Aplica</td>\n",
              "      <td>Indirectamente Modelada</td>\n",
              "      <td>No Aplica</td>\n",
              "      <td>No Aplica</td>\n",
              "      <td>YUCATAN</td>\n",
              "      <td>PENINSULAR</td>\n",
              "      <td>TICUL</td>\n",
              "      <td>PENINSULAR</td>\n",
              "      <td>31</td>\n",
              "      <td>YUCATAN</td>\n",
              "      <td>79</td>\n",
              "      <td>TEKAX</td>\n",
              "      <td>MERIDA</td>\n",
              "    </tr>\n",
              "    <tr>\n",
              "      <th>08TXM-115</th>\n",
              "      <td>SIN</td>\n",
              "      <td>PENINSULAR</td>\n",
              "      <td>TICUL</td>\n",
              "      <td>Tixmehuac</td>\n",
              "      <td>115.0</td>\n",
              "      <td>No Aplica</td>\n",
              "      <td>Indirectamente Modelada</td>\n",
              "      <td>No Aplica</td>\n",
              "      <td>No Aplica</td>\n",
              "      <td>YUCATAN</td>\n",
              "      <td>PENINSULAR</td>\n",
              "      <td>TICUL</td>\n",
              "      <td>PENINSULAR</td>\n",
              "      <td>31</td>\n",
              "      <td>YUCATAN</td>\n",
              "      <td>94</td>\n",
              "      <td>TIXMEHUAC</td>\n",
              "      <td>MERIDA</td>\n",
              "    </tr>\n",
              "  </tbody>\n",
              "</table>\n",
              "<p>2538 rows × 18 columns</p>\n",
              "</div>"
            ],
            "text/plain": [
              "          SISTEMA  ... REGION DE TRANSMISION\n",
              "CLAVE              ...                      \n",
              "07ACU-115     BCA  ...              ENSENADA\n",
              "07AUE-115     BCA  ...              ENSENADA\n",
              "07CIP-115     BCA  ...              ENSENADA\n",
              "07CME-115     BCA  ...              ENSENADA\n",
              "07COE-115     BCA  ...              ENSENADA\n",
              "...           ...  ...                   ...\n",
              "08KBL-115     SIN  ...                MERIDA\n",
              "08MAX-115     SIN  ...                MERIDA\n",
              "08TIU-115     SIN  ...                MERIDA\n",
              "08TKD-115     SIN  ...                MERIDA\n",
              "08TXM-115     SIN  ...                MERIDA\n",
              "\n",
              "[2538 rows x 18 columns]"
            ]
          },
          "metadata": {},
          "execution_count": 39
        }
      ]
    },
    {
      "cell_type": "markdown",
      "metadata": {
        "id": "nEUHfcSA0HCo"
      },
      "source": [
        "El método ```.loc[]``` permite acceder a la informacion del dataframe indicando el index(identificador de fila)"
      ]
    },
    {
      "cell_type": "code",
      "metadata": {
        "colab": {
          "base_uri": "https://localhost:8080/"
        },
        "id": "npF29nww0TpC",
        "outputId": "a3a3ceaf-3cf2-457f-f214-ca6fb0b3b240"
      },
      "source": [
        "nodos.loc['07COE-115']"
      ],
      "execution_count": null,
      "outputs": [
        {
          "output_type": "execute_result",
          "data": {
            "text/plain": [
              "SISTEMA                                                    BCA\n",
              "CENTRO DE CONTROL REGIONAL                     BAJA CALIFORNIA\n",
              "ZONA DE CARGA                                         ENSENADA\n",
              "NOMBRE                                                 Colonet\n",
              "NIVEL DE TENSIÓN (kV)                                      115\n",
              "CARGA DIRECTAMENTE MODELADA                          No Aplica\n",
              "CARGA INDIRECTAMENTE MODELADA          Indirectamente Modelada\n",
              "GENERACIÓN DIRECTAMENTE MODELADA                     No Aplica\n",
              "GENERACIÓN INDIRECTAMENTE MODELADA                   No Aplica\n",
              "ZONA DE OPERACIÓN DE TRANSMISIÓN                         COSTA\n",
              "GERENCIA REGIONAL DE TRANSMISIÓN               BAJA CALIFORNIA\n",
              "ZONA DE DISTRIBUCIÓN                                  ENSENADA\n",
              "GERENCIA DIVISIONAL DE DISTRIBUCIÓN            BAJA CALIFORNIA\n",
              "CLAVE DE ENTIDAD FEDERATIVA (INEGI)                          2\n",
              "ENTIDAD FEDERATIVA (INEGI)                     BAJA CALIFORNIA\n",
              "CLAVE DE MUNICIPIO (INEGI)                                   1\n",
              "MUNICIPIO (INEGI)                                     ENSENADA\n",
              "REGION DE TRANSMISION                                 ENSENADA\n",
              "Name: 07COE-115, dtype: object"
            ]
          },
          "metadata": {},
          "execution_count": 40
        }
      ]
    },
    {
      "cell_type": "markdown",
      "metadata": {
        "id": "dAkJeWjm0d5D"
      },
      "source": [
        "Quiero seleccionar lo mismo, pero solo con dos determinadas columnas, de lado izquierdo de la coma, va la informacion respecto al index, y de lado derecho la informacion a las columnas"
      ]
    },
    {
      "cell_type": "code",
      "metadata": {
        "colab": {
          "base_uri": "https://localhost:8080/"
        },
        "id": "wHI6T11e0Flv",
        "outputId": "67e39e0a-a9d6-435e-a5a3-d3656d64ad1a"
      },
      "source": [
        "nodos.loc['07COE-115',['NOMBRE','REGION DE TRANSMISION']]"
      ],
      "execution_count": null,
      "outputs": [
        {
          "output_type": "execute_result",
          "data": {
            "text/plain": [
              "NOMBRE                    Colonet\n",
              "REGION DE TRANSMISION    ENSENADA\n",
              "Name: 07COE-115, dtype: object"
            ]
          },
          "metadata": {},
          "execution_count": 50
        }
      ]
    },
    {
      "cell_type": "markdown",
      "metadata": {
        "id": "o-e0l5_U07Kb"
      },
      "source": [
        "Otro metodo para seleccionar datos es mediante ```.iloc[]```. De esta manera accedemos a la fila 1 ['08CTE-115'] y la columna 3 ['Nombre']"
      ]
    },
    {
      "cell_type": "code",
      "metadata": {
        "colab": {
          "base_uri": "https://localhost:8080/",
          "height": 35
        },
        "id": "JL_pJRKK1bFr",
        "outputId": "9c1574a7-a5b5-4212-d301-19ebe1d3b7da"
      },
      "source": [
        "nodos.iloc[1,3]"
      ],
      "execution_count": null,
      "outputs": [
        {
          "output_type": "execute_result",
          "data": {
            "application/vnd.google.colaboratory.intrinsic+json": {
              "type": "string"
            },
            "text/plain": [
              "'Aguas Ensenada'"
            ]
          },
          "metadata": {},
          "execution_count": 82
        }
      ]
    },
    {
      "cell_type": "markdown",
      "metadata": {
        "id": "4phX1lTl1-y9"
      },
      "source": [
        "De esta manera obtenemos informacion de la fila 1 a 5 , y traemos informacion de todas las columnas\n",
        "\n"
      ]
    },
    {
      "cell_type": "code",
      "metadata": {
        "colab": {
          "base_uri": "https://localhost:8080/",
          "height": 346
        },
        "id": "c3xQbsFbGv6F",
        "outputId": "1b5464bc-46aa-4791-dc36-d7673d1d5015"
      },
      "source": [
        "nodos.iloc[1:5,:]"
      ],
      "execution_count": null,
      "outputs": [
        {
          "output_type": "execute_result",
          "data": {
            "text/html": [
              "<div>\n",
              "<style scoped>\n",
              "    .dataframe tbody tr th:only-of-type {\n",
              "        vertical-align: middle;\n",
              "    }\n",
              "\n",
              "    .dataframe tbody tr th {\n",
              "        vertical-align: top;\n",
              "    }\n",
              "\n",
              "    .dataframe thead th {\n",
              "        text-align: right;\n",
              "    }\n",
              "</style>\n",
              "<table border=\"1\" class=\"dataframe\">\n",
              "  <thead>\n",
              "    <tr style=\"text-align: right;\">\n",
              "      <th></th>\n",
              "      <th>SISTEMA</th>\n",
              "      <th>CENTRO DE CONTROL REGIONAL</th>\n",
              "      <th>ZONA DE CARGA</th>\n",
              "      <th>NOMBRE</th>\n",
              "      <th>NIVEL DE TENSIÓN (kV)</th>\n",
              "      <th>CARGA DIRECTAMENTE MODELADA</th>\n",
              "      <th>CARGA INDIRECTAMENTE MODELADA</th>\n",
              "      <th>GENERACIÓN DIRECTAMENTE MODELADA</th>\n",
              "      <th>GENERACIÓN INDIRECTAMENTE MODELADA</th>\n",
              "      <th>ZONA DE OPERACIÓN DE TRANSMISIÓN</th>\n",
              "      <th>GERENCIA REGIONAL DE TRANSMISIÓN</th>\n",
              "      <th>ZONA DE DISTRIBUCIÓN</th>\n",
              "      <th>GERENCIA DIVISIONAL DE DISTRIBUCIÓN</th>\n",
              "      <th>CLAVE DE ENTIDAD FEDERATIVA (INEGI)</th>\n",
              "      <th>ENTIDAD FEDERATIVA (INEGI)</th>\n",
              "      <th>CLAVE DE MUNICIPIO (INEGI)</th>\n",
              "      <th>MUNICIPIO (INEGI)</th>\n",
              "      <th>REGION DE TRANSMISION</th>\n",
              "    </tr>\n",
              "    <tr>\n",
              "      <th>CLAVE</th>\n",
              "      <th></th>\n",
              "      <th></th>\n",
              "      <th></th>\n",
              "      <th></th>\n",
              "      <th></th>\n",
              "      <th></th>\n",
              "      <th></th>\n",
              "      <th></th>\n",
              "      <th></th>\n",
              "      <th></th>\n",
              "      <th></th>\n",
              "      <th></th>\n",
              "      <th></th>\n",
              "      <th></th>\n",
              "      <th></th>\n",
              "      <th></th>\n",
              "      <th></th>\n",
              "      <th></th>\n",
              "    </tr>\n",
              "  </thead>\n",
              "  <tbody>\n",
              "    <tr>\n",
              "      <th>07AUE-115</th>\n",
              "      <td>BCA</td>\n",
              "      <td>BAJA CALIFORNIA</td>\n",
              "      <td>ENSENADA</td>\n",
              "      <td>Aguas Ensenada</td>\n",
              "      <td>115.0</td>\n",
              "      <td>No Aplica</td>\n",
              "      <td>Indirectamente Modelada</td>\n",
              "      <td>No Aplica</td>\n",
              "      <td>No Aplica</td>\n",
              "      <td>COSTA</td>\n",
              "      <td>BAJA CALIFORNIA</td>\n",
              "      <td>ENSENADA</td>\n",
              "      <td>BAJA CALIFORNIA</td>\n",
              "      <td>2</td>\n",
              "      <td>BAJA CALIFORNIA</td>\n",
              "      <td>1</td>\n",
              "      <td>ENSENADA</td>\n",
              "      <td>ENSENADA</td>\n",
              "    </tr>\n",
              "    <tr>\n",
              "      <th>07CIP-115</th>\n",
              "      <td>BCA</td>\n",
              "      <td>BAJA CALIFORNIA</td>\n",
              "      <td>ENSENADA</td>\n",
              "      <td>Cipres</td>\n",
              "      <td>115.0</td>\n",
              "      <td>Directamente Modelada</td>\n",
              "      <td>Indirectamente Modelada</td>\n",
              "      <td>Directamente Modelada</td>\n",
              "      <td>No Aplica</td>\n",
              "      <td>COSTA</td>\n",
              "      <td>BAJA CALIFORNIA</td>\n",
              "      <td>ENSENADA</td>\n",
              "      <td>BAJA CALIFORNIA</td>\n",
              "      <td>2</td>\n",
              "      <td>BAJA CALIFORNIA</td>\n",
              "      <td>1</td>\n",
              "      <td>ENSENADA</td>\n",
              "      <td>ENSENADA</td>\n",
              "    </tr>\n",
              "    <tr>\n",
              "      <th>07CME-115</th>\n",
              "      <td>BCA</td>\n",
              "      <td>BAJA CALIFORNIA</td>\n",
              "      <td>ENSENADA</td>\n",
              "      <td>Cemex</td>\n",
              "      <td>115.0</td>\n",
              "      <td>No Aplica</td>\n",
              "      <td>Indirectamente Modelada</td>\n",
              "      <td>No Aplica</td>\n",
              "      <td>No Aplica</td>\n",
              "      <td>COSTA</td>\n",
              "      <td>BAJA CALIFORNIA</td>\n",
              "      <td>ENSENADA</td>\n",
              "      <td>BAJA CALIFORNIA</td>\n",
              "      <td>2</td>\n",
              "      <td>BAJA CALIFORNIA</td>\n",
              "      <td>1</td>\n",
              "      <td>ENSENADA</td>\n",
              "      <td>ENSENADA</td>\n",
              "    </tr>\n",
              "    <tr>\n",
              "      <th>07COE-115</th>\n",
              "      <td>BCA</td>\n",
              "      <td>BAJA CALIFORNIA</td>\n",
              "      <td>ENSENADA</td>\n",
              "      <td>Colonet</td>\n",
              "      <td>115.0</td>\n",
              "      <td>No Aplica</td>\n",
              "      <td>Indirectamente Modelada</td>\n",
              "      <td>No Aplica</td>\n",
              "      <td>No Aplica</td>\n",
              "      <td>COSTA</td>\n",
              "      <td>BAJA CALIFORNIA</td>\n",
              "      <td>ENSENADA</td>\n",
              "      <td>BAJA CALIFORNIA</td>\n",
              "      <td>2</td>\n",
              "      <td>BAJA CALIFORNIA</td>\n",
              "      <td>1</td>\n",
              "      <td>ENSENADA</td>\n",
              "      <td>ENSENADA</td>\n",
              "    </tr>\n",
              "  </tbody>\n",
              "</table>\n",
              "</div>"
            ],
            "text/plain": [
              "          SISTEMA  ... REGION DE TRANSMISION\n",
              "CLAVE              ...                      \n",
              "07AUE-115     BCA  ...              ENSENADA\n",
              "07CIP-115     BCA  ...              ENSENADA\n",
              "07CME-115     BCA  ...              ENSENADA\n",
              "07COE-115     BCA  ...              ENSENADA\n",
              "\n",
              "[4 rows x 18 columns]"
            ]
          },
          "metadata": {},
          "execution_count": 83
        }
      ]
    },
    {
      "cell_type": "code",
      "metadata": {
        "colab": {
          "base_uri": "https://localhost:8080/",
          "height": 249
        },
        "id": "IRscxmql15ar",
        "outputId": "28583699-cac6-4c02-b0b2-535237c5eff8"
      },
      "source": [
        "nodos.iloc[[0,2],:]"
      ],
      "execution_count": null,
      "outputs": [
        {
          "output_type": "execute_result",
          "data": {
            "text/html": [
              "<div>\n",
              "<style scoped>\n",
              "    .dataframe tbody tr th:only-of-type {\n",
              "        vertical-align: middle;\n",
              "    }\n",
              "\n",
              "    .dataframe tbody tr th {\n",
              "        vertical-align: top;\n",
              "    }\n",
              "\n",
              "    .dataframe thead th {\n",
              "        text-align: right;\n",
              "    }\n",
              "</style>\n",
              "<table border=\"1\" class=\"dataframe\">\n",
              "  <thead>\n",
              "    <tr style=\"text-align: right;\">\n",
              "      <th></th>\n",
              "      <th>SISTEMA</th>\n",
              "      <th>CENTRO DE CONTROL REGIONAL</th>\n",
              "      <th>ZONA DE CARGA</th>\n",
              "      <th>NOMBRE</th>\n",
              "      <th>NIVEL DE TENSIÓN (kV)</th>\n",
              "      <th>CARGA DIRECTAMENTE MODELADA</th>\n",
              "      <th>CARGA INDIRECTAMENTE MODELADA</th>\n",
              "      <th>GENERACIÓN DIRECTAMENTE MODELADA</th>\n",
              "      <th>GENERACIÓN INDIRECTAMENTE MODELADA</th>\n",
              "      <th>ZONA DE OPERACIÓN DE TRANSMISIÓN</th>\n",
              "      <th>GERENCIA REGIONAL DE TRANSMISIÓN</th>\n",
              "      <th>ZONA DE DISTRIBUCIÓN</th>\n",
              "      <th>GERENCIA DIVISIONAL DE DISTRIBUCIÓN</th>\n",
              "      <th>CLAVE DE ENTIDAD FEDERATIVA (INEGI)</th>\n",
              "      <th>ENTIDAD FEDERATIVA (INEGI)</th>\n",
              "      <th>CLAVE DE MUNICIPIO (INEGI)</th>\n",
              "      <th>MUNICIPIO (INEGI)</th>\n",
              "      <th>REGION DE TRANSMISION</th>\n",
              "    </tr>\n",
              "    <tr>\n",
              "      <th>CLAVE</th>\n",
              "      <th></th>\n",
              "      <th></th>\n",
              "      <th></th>\n",
              "      <th></th>\n",
              "      <th></th>\n",
              "      <th></th>\n",
              "      <th></th>\n",
              "      <th></th>\n",
              "      <th></th>\n",
              "      <th></th>\n",
              "      <th></th>\n",
              "      <th></th>\n",
              "      <th></th>\n",
              "      <th></th>\n",
              "      <th></th>\n",
              "      <th></th>\n",
              "      <th></th>\n",
              "      <th></th>\n",
              "    </tr>\n",
              "  </thead>\n",
              "  <tbody>\n",
              "    <tr>\n",
              "      <th>07ACU-115</th>\n",
              "      <td>BCA</td>\n",
              "      <td>BAJA CALIFORNIA</td>\n",
              "      <td>ENSENADA</td>\n",
              "      <td>Acueducto La Mision</td>\n",
              "      <td>115.0</td>\n",
              "      <td>No Aplica</td>\n",
              "      <td>Indirectamente Modelada</td>\n",
              "      <td>No Aplica</td>\n",
              "      <td>No Aplica</td>\n",
              "      <td>COSTA</td>\n",
              "      <td>BAJA CALIFORNIA</td>\n",
              "      <td>ENSENADA</td>\n",
              "      <td>BAJA CALIFORNIA</td>\n",
              "      <td>2</td>\n",
              "      <td>BAJA CALIFORNIA</td>\n",
              "      <td>1</td>\n",
              "      <td>ENSENADA</td>\n",
              "      <td>ENSENADA</td>\n",
              "    </tr>\n",
              "    <tr>\n",
              "      <th>07CIP-115</th>\n",
              "      <td>BCA</td>\n",
              "      <td>BAJA CALIFORNIA</td>\n",
              "      <td>ENSENADA</td>\n",
              "      <td>Cipres</td>\n",
              "      <td>115.0</td>\n",
              "      <td>Directamente Modelada</td>\n",
              "      <td>Indirectamente Modelada</td>\n",
              "      <td>Directamente Modelada</td>\n",
              "      <td>No Aplica</td>\n",
              "      <td>COSTA</td>\n",
              "      <td>BAJA CALIFORNIA</td>\n",
              "      <td>ENSENADA</td>\n",
              "      <td>BAJA CALIFORNIA</td>\n",
              "      <td>2</td>\n",
              "      <td>BAJA CALIFORNIA</td>\n",
              "      <td>1</td>\n",
              "      <td>ENSENADA</td>\n",
              "      <td>ENSENADA</td>\n",
              "    </tr>\n",
              "  </tbody>\n",
              "</table>\n",
              "</div>"
            ],
            "text/plain": [
              "          SISTEMA  ... REGION DE TRANSMISION\n",
              "CLAVE              ...                      \n",
              "07ACU-115     BCA  ...              ENSENADA\n",
              "07CIP-115     BCA  ...              ENSENADA\n",
              "\n",
              "[2 rows x 18 columns]"
            ]
          },
          "metadata": {},
          "execution_count": 76
        }
      ]
    },
    {
      "cell_type": "markdown",
      "metadata": {
        "id": "O85bNkTl2P7S"
      },
      "source": [
        "Podemos filtrar todo el dataframe, buscando un match en alguna columa. Por ejemplo, quiero saber todos los nodos de la zona de carga \"CHETUMAL\""
      ]
    },
    {
      "cell_type": "code",
      "metadata": {
        "colab": {
          "base_uri": "https://localhost:8080/",
          "height": 461
        },
        "id": "wWzOC1Eh2Wnw",
        "outputId": "f9569146-2fd4-4a5a-dc22-214d5563c0ba"
      },
      "source": [
        "nodos.loc[ nodos['ZONA DE CARGA'] == 'CHETUMAL']"
      ],
      "execution_count": null,
      "outputs": [
        {
          "output_type": "execute_result",
          "data": {
            "text/html": [
              "<div>\n",
              "<style scoped>\n",
              "    .dataframe tbody tr th:only-of-type {\n",
              "        vertical-align: middle;\n",
              "    }\n",
              "\n",
              "    .dataframe tbody tr th {\n",
              "        vertical-align: top;\n",
              "    }\n",
              "\n",
              "    .dataframe thead th {\n",
              "        text-align: right;\n",
              "    }\n",
              "</style>\n",
              "<table border=\"1\" class=\"dataframe\">\n",
              "  <thead>\n",
              "    <tr style=\"text-align: right;\">\n",
              "      <th></th>\n",
              "      <th>SISTEMA</th>\n",
              "      <th>CENTRO DE CONTROL REGIONAL</th>\n",
              "      <th>ZONA DE CARGA</th>\n",
              "      <th>NOMBRE</th>\n",
              "      <th>NIVEL DE TENSIÓN (kV)</th>\n",
              "      <th>CARGA DIRECTAMENTE MODELADA</th>\n",
              "      <th>CARGA INDIRECTAMENTE MODELADA</th>\n",
              "      <th>GENERACIÓN DIRECTAMENTE MODELADA</th>\n",
              "      <th>GENERACIÓN INDIRECTAMENTE MODELADA</th>\n",
              "      <th>ZONA DE OPERACIÓN DE TRANSMISIÓN</th>\n",
              "      <th>GERENCIA REGIONAL DE TRANSMISIÓN</th>\n",
              "      <th>ZONA DE DISTRIBUCIÓN</th>\n",
              "      <th>GERENCIA DIVISIONAL DE DISTRIBUCIÓN</th>\n",
              "      <th>CLAVE DE ENTIDAD FEDERATIVA (INEGI)</th>\n",
              "      <th>ENTIDAD FEDERATIVA (INEGI)</th>\n",
              "      <th>CLAVE DE MUNICIPIO (INEGI)</th>\n",
              "      <th>MUNICIPIO (INEGI)</th>\n",
              "      <th>REGION DE TRANSMISION</th>\n",
              "    </tr>\n",
              "    <tr>\n",
              "      <th>CLAVE</th>\n",
              "      <th></th>\n",
              "      <th></th>\n",
              "      <th></th>\n",
              "      <th></th>\n",
              "      <th></th>\n",
              "      <th></th>\n",
              "      <th></th>\n",
              "      <th></th>\n",
              "      <th></th>\n",
              "      <th></th>\n",
              "      <th></th>\n",
              "      <th></th>\n",
              "      <th></th>\n",
              "      <th></th>\n",
              "      <th></th>\n",
              "      <th></th>\n",
              "      <th></th>\n",
              "      <th></th>\n",
              "    </tr>\n",
              "  </thead>\n",
              "  <tbody>\n",
              "    <tr>\n",
              "      <th>08CTE-115</th>\n",
              "      <td>SIN</td>\n",
              "      <td>PENINSULAR</td>\n",
              "      <td>CHETUMAL</td>\n",
              "      <td>Chetumal Norte</td>\n",
              "      <td>115.0</td>\n",
              "      <td>No Aplica</td>\n",
              "      <td>Indirectamente Modelada</td>\n",
              "      <td>No Aplica</td>\n",
              "      <td>No Aplica</td>\n",
              "      <td>CHETUMAL</td>\n",
              "      <td>PENINSULAR</td>\n",
              "      <td>CHETUMAL</td>\n",
              "      <td>PENINSULAR</td>\n",
              "      <td>23</td>\n",
              "      <td>QUINTANA ROO</td>\n",
              "      <td>4</td>\n",
              "      <td>OTHON P. BLANCO</td>\n",
              "      <td>CHETUMAL</td>\n",
              "    </tr>\n",
              "    <tr>\n",
              "      <th>08INS-115</th>\n",
              "      <td>SIN</td>\n",
              "      <td>PENINSULAR</td>\n",
              "      <td>CHETUMAL</td>\n",
              "      <td>Insurgentes</td>\n",
              "      <td>115.0</td>\n",
              "      <td>No Aplica</td>\n",
              "      <td>Indirectamente Modelada</td>\n",
              "      <td>No Aplica</td>\n",
              "      <td>No Aplica</td>\n",
              "      <td>CHETUMAL</td>\n",
              "      <td>PENINSULAR</td>\n",
              "      <td>CHETUMAL</td>\n",
              "      <td>PENINSULAR</td>\n",
              "      <td>23</td>\n",
              "      <td>QUINTANA ROO</td>\n",
              "      <td>4</td>\n",
              "      <td>OTHON P. BLANCO</td>\n",
              "      <td>CHETUMAL</td>\n",
              "    </tr>\n",
              "    <tr>\n",
              "      <th>08LAC-115</th>\n",
              "      <td>SIN</td>\n",
              "      <td>PENINSULAR</td>\n",
              "      <td>CHETUMAL</td>\n",
              "      <td>Lazaro Cardenas</td>\n",
              "      <td>115.0</td>\n",
              "      <td>No Aplica</td>\n",
              "      <td>Indirectamente Modelada</td>\n",
              "      <td>No Aplica</td>\n",
              "      <td>No Aplica</td>\n",
              "      <td>CHETUMAL</td>\n",
              "      <td>PENINSULAR</td>\n",
              "      <td>CHETUMAL</td>\n",
              "      <td>PENINSULAR</td>\n",
              "      <td>23</td>\n",
              "      <td>QUINTANA ROO</td>\n",
              "      <td>10</td>\n",
              "      <td>BACALAR</td>\n",
              "      <td>CHETUMAL</td>\n",
              "    </tr>\n",
              "    <tr>\n",
              "      <th>08MHH-115</th>\n",
              "      <td>SIN</td>\n",
              "      <td>PENINSULAR</td>\n",
              "      <td>CHETUMAL</td>\n",
              "      <td>Mahahual</td>\n",
              "      <td>115.0</td>\n",
              "      <td>No Aplica</td>\n",
              "      <td>Indirectamente Modelada</td>\n",
              "      <td>No Aplica</td>\n",
              "      <td>No Aplica</td>\n",
              "      <td>CHETUMAL</td>\n",
              "      <td>PENINSULAR</td>\n",
              "      <td>CHETUMAL</td>\n",
              "      <td>PENINSULAR</td>\n",
              "      <td>23</td>\n",
              "      <td>QUINTANA ROO</td>\n",
              "      <td>4</td>\n",
              "      <td>OTHON P. BLANCO</td>\n",
              "      <td>CHETUMAL</td>\n",
              "    </tr>\n",
              "    <tr>\n",
              "      <th>08PYU-115</th>\n",
              "      <td>SIN</td>\n",
              "      <td>PENINSULAR</td>\n",
              "      <td>CHETUMAL</td>\n",
              "      <td>Polyuc</td>\n",
              "      <td>115.0</td>\n",
              "      <td>No Aplica</td>\n",
              "      <td>Indirectamente Modelada</td>\n",
              "      <td>No Aplica</td>\n",
              "      <td>No Aplica</td>\n",
              "      <td>CHETUMAL</td>\n",
              "      <td>PENINSULAR</td>\n",
              "      <td>CHETUMAL</td>\n",
              "      <td>PENINSULAR</td>\n",
              "      <td>23</td>\n",
              "      <td>QUINTANA ROO</td>\n",
              "      <td>2</td>\n",
              "      <td>FELIPE CARRILLO PUERTO</td>\n",
              "      <td>CHETUMAL</td>\n",
              "    </tr>\n",
              "    <tr>\n",
              "      <th>08XUL-115</th>\n",
              "      <td>SIN</td>\n",
              "      <td>PENINSULAR</td>\n",
              "      <td>CHETUMAL</td>\n",
              "      <td>Xul-Ha</td>\n",
              "      <td>115.0</td>\n",
              "      <td>Directamente Modelada</td>\n",
              "      <td>Indirectamente Modelada</td>\n",
              "      <td>Directamente Modelada</td>\n",
              "      <td>No Aplica</td>\n",
              "      <td>CHETUMAL</td>\n",
              "      <td>PENINSULAR</td>\n",
              "      <td>CHETUMAL</td>\n",
              "      <td>PENINSULAR</td>\n",
              "      <td>23</td>\n",
              "      <td>QUINTANA ROO</td>\n",
              "      <td>4</td>\n",
              "      <td>OTHON P. BLANCO</td>\n",
              "      <td>CHETUMAL</td>\n",
              "    </tr>\n",
              "  </tbody>\n",
              "</table>\n",
              "</div>"
            ],
            "text/plain": [
              "          SISTEMA  ... REGION DE TRANSMISION\n",
              "CLAVE              ...                      \n",
              "08CTE-115     SIN  ...              CHETUMAL\n",
              "08INS-115     SIN  ...              CHETUMAL\n",
              "08LAC-115     SIN  ...              CHETUMAL\n",
              "08MHH-115     SIN  ...              CHETUMAL\n",
              "08PYU-115     SIN  ...              CHETUMAL\n",
              "08XUL-115     SIN  ...              CHETUMAL\n",
              "\n",
              "[6 rows x 18 columns]"
            ]
          },
          "metadata": {},
          "execution_count": 56
        }
      ]
    },
    {
      "cell_type": "code",
      "metadata": {
        "colab": {
          "base_uri": "https://localhost:8080/"
        },
        "id": "NpqxJR4e20o4",
        "outputId": "ee38eca0-25a3-4e12-e364-122d08335e78"
      },
      "source": [
        "nodos['ZONA DE CARGA'] == 'CHETUMAL'"
      ],
      "execution_count": null,
      "outputs": [
        {
          "output_type": "execute_result",
          "data": {
            "text/plain": [
              "CLAVE\n",
              "07ACU-115    False\n",
              "07AUE-115    False\n",
              "07CIP-115    False\n",
              "07CME-115    False\n",
              "07COE-115    False\n",
              "             ...  \n",
              "08KBL-115    False\n",
              "08MAX-115    False\n",
              "08TIU-115    False\n",
              "08TKD-115    False\n",
              "08TXM-115    False\n",
              "Name: ZONA DE CARGA, Length: 2538, dtype: bool"
            ]
          },
          "metadata": {},
          "execution_count": 57
        }
      ]
    },
    {
      "cell_type": "markdown",
      "metadata": {
        "id": "S25SvRvl3JYJ"
      },
      "source": [
        "Quiero conocer aquellos nodos que son de la zona de carga MONTERREY y cuyo voltaje es de 400kV"
      ]
    },
    {
      "cell_type": "code",
      "metadata": {
        "colab": {
          "base_uri": "https://localhost:8080/",
          "height": 595
        },
        "id": "17BYGfcV3PZJ",
        "outputId": "7668c2df-5235-421e-8f99-47eb8d3e42ce"
      },
      "source": [
        "nodos.loc[(nodos['ZONA DE CARGA'] == 'MONTERREY') & (nodos['NIVEL DE TENSIÓN (kV)'] == 400)]"
      ],
      "execution_count": null,
      "outputs": [
        {
          "output_type": "execute_result",
          "data": {
            "text/html": [
              "<div>\n",
              "<style scoped>\n",
              "    .dataframe tbody tr th:only-of-type {\n",
              "        vertical-align: middle;\n",
              "    }\n",
              "\n",
              "    .dataframe tbody tr th {\n",
              "        vertical-align: top;\n",
              "    }\n",
              "\n",
              "    .dataframe thead th {\n",
              "        text-align: right;\n",
              "    }\n",
              "</style>\n",
              "<table border=\"1\" class=\"dataframe\">\n",
              "  <thead>\n",
              "    <tr style=\"text-align: right;\">\n",
              "      <th></th>\n",
              "      <th>SISTEMA</th>\n",
              "      <th>CENTRO DE CONTROL REGIONAL</th>\n",
              "      <th>ZONA DE CARGA</th>\n",
              "      <th>NOMBRE</th>\n",
              "      <th>NIVEL DE TENSIÓN (kV)</th>\n",
              "      <th>CARGA DIRECTAMENTE MODELADA</th>\n",
              "      <th>CARGA INDIRECTAMENTE MODELADA</th>\n",
              "      <th>GENERACIÓN DIRECTAMENTE MODELADA</th>\n",
              "      <th>GENERACIÓN INDIRECTAMENTE MODELADA</th>\n",
              "      <th>ZONA DE OPERACIÓN DE TRANSMISIÓN</th>\n",
              "      <th>GERENCIA REGIONAL DE TRANSMISIÓN</th>\n",
              "      <th>ZONA DE DISTRIBUCIÓN</th>\n",
              "      <th>GERENCIA DIVISIONAL DE DISTRIBUCIÓN</th>\n",
              "      <th>CLAVE DE ENTIDAD FEDERATIVA (INEGI)</th>\n",
              "      <th>ENTIDAD FEDERATIVA (INEGI)</th>\n",
              "      <th>CLAVE DE MUNICIPIO (INEGI)</th>\n",
              "      <th>MUNICIPIO (INEGI)</th>\n",
              "      <th>REGION DE TRANSMISION</th>\n",
              "    </tr>\n",
              "    <tr>\n",
              "      <th>CLAVE</th>\n",
              "      <th></th>\n",
              "      <th></th>\n",
              "      <th></th>\n",
              "      <th></th>\n",
              "      <th></th>\n",
              "      <th></th>\n",
              "      <th></th>\n",
              "      <th></th>\n",
              "      <th></th>\n",
              "      <th></th>\n",
              "      <th></th>\n",
              "      <th></th>\n",
              "      <th></th>\n",
              "      <th></th>\n",
              "      <th></th>\n",
              "      <th></th>\n",
              "      <th></th>\n",
              "      <th></th>\n",
              "    </tr>\n",
              "  </thead>\n",
              "  <tbody>\n",
              "    <tr>\n",
              "      <th>06CDU-400</th>\n",
              "      <td>SIN</td>\n",
              "      <td>NORESTE</td>\n",
              "      <td>MONTERREY</td>\n",
              "      <td>Central Dulces Nombres</td>\n",
              "      <td>400.0</td>\n",
              "      <td>Directamente Modelada</td>\n",
              "      <td>Indirectamente Modelada</td>\n",
              "      <td>Directamente Modelada</td>\n",
              "      <td>No Aplica</td>\n",
              "      <td>MONTERREY</td>\n",
              "      <td>NORESTE</td>\n",
              "      <td>ORIENTE</td>\n",
              "      <td>GOLFO NORTE</td>\n",
              "      <td>19</td>\n",
              "      <td>NUEVO LEON</td>\n",
              "      <td>41</td>\n",
              "      <td>PESQUERIA</td>\n",
              "      <td>MONTERREY</td>\n",
              "    </tr>\n",
              "    <tr>\n",
              "      <th>06ESC-400</th>\n",
              "      <td>SIN</td>\n",
              "      <td>NORESTE</td>\n",
              "      <td>MONTERREY</td>\n",
              "      <td>Escobedo</td>\n",
              "      <td>400.0</td>\n",
              "      <td>No Aplica</td>\n",
              "      <td>No Aplica</td>\n",
              "      <td>Directamente Modelada</td>\n",
              "      <td>No Aplica</td>\n",
              "      <td>MONTERREY</td>\n",
              "      <td>NORESTE</td>\n",
              "      <td>NORTE</td>\n",
              "      <td>GOLFO NORTE</td>\n",
              "      <td>19</td>\n",
              "      <td>NUEVO LEON</td>\n",
              "      <td>21</td>\n",
              "      <td>GENERAL ESCOBEDO</td>\n",
              "      <td>MONTERREY</td>\n",
              "    </tr>\n",
              "    <tr>\n",
              "      <th>06FAI-400</th>\n",
              "      <td>SIN</td>\n",
              "      <td>NORESTE</td>\n",
              "      <td>MONTERREY</td>\n",
              "      <td>El Fraile</td>\n",
              "      <td>400.0</td>\n",
              "      <td>Directamente Modelada</td>\n",
              "      <td>No Aplica</td>\n",
              "      <td>Directamente Modelada</td>\n",
              "      <td>No Aplica</td>\n",
              "      <td>MONTERREY</td>\n",
              "      <td>NORESTE</td>\n",
              "      <td>NORTE</td>\n",
              "      <td>GOLFO NORTE</td>\n",
              "      <td>19</td>\n",
              "      <td>NUEVO LEON</td>\n",
              "      <td>10</td>\n",
              "      <td>EL CARMEN</td>\n",
              "      <td>MONTERREY</td>\n",
              "    </tr>\n",
              "    <tr>\n",
              "      <th>06HUO-400</th>\n",
              "      <td>SIN</td>\n",
              "      <td>NORESTE</td>\n",
              "      <td>MONTERREY</td>\n",
              "      <td>Huinala Dos</td>\n",
              "      <td>400.0</td>\n",
              "      <td>Directamente Modelada</td>\n",
              "      <td>No Aplica</td>\n",
              "      <td>Directamente Modelada</td>\n",
              "      <td>No Aplica</td>\n",
              "      <td>MONTERREY</td>\n",
              "      <td>NORESTE</td>\n",
              "      <td>ORIENTE</td>\n",
              "      <td>GOLFO NORTE</td>\n",
              "      <td>19</td>\n",
              "      <td>NUEVO LEON</td>\n",
              "      <td>6</td>\n",
              "      <td>APODACA</td>\n",
              "      <td>MONTERREY</td>\n",
              "    </tr>\n",
              "    <tr>\n",
              "      <th>06HYM-400</th>\n",
              "      <td>SIN</td>\n",
              "      <td>NORESTE</td>\n",
              "      <td>MONTERREY</td>\n",
              "      <td>Hylsa Maniobras</td>\n",
              "      <td>400.0</td>\n",
              "      <td>Directamente Modelada</td>\n",
              "      <td>No Aplica</td>\n",
              "      <td>No Aplica</td>\n",
              "      <td>No Aplica</td>\n",
              "      <td>MONTERREY</td>\n",
              "      <td>NORESTE</td>\n",
              "      <td>NORTE</td>\n",
              "      <td>GOLFO NORTE</td>\n",
              "      <td>19</td>\n",
              "      <td>NUEVO LEON</td>\n",
              "      <td>46</td>\n",
              "      <td>SAN NICOLAS DE LOS GARZA</td>\n",
              "      <td>MONTERREY</td>\n",
              "    </tr>\n",
              "    <tr>\n",
              "      <th>06PGE-400</th>\n",
              "      <td>SIN</td>\n",
              "      <td>NORESTE</td>\n",
              "      <td>MONTERREY</td>\n",
              "      <td>Cuadro de Maniobras Presa Grande</td>\n",
              "      <td>400.0</td>\n",
              "      <td>Directamente Modelada</td>\n",
              "      <td>No Aplica</td>\n",
              "      <td>Directamente Modelada</td>\n",
              "      <td>No Aplica</td>\n",
              "      <td>MONTERREY</td>\n",
              "      <td>NORESTE</td>\n",
              "      <td>ORIENTE</td>\n",
              "      <td>GOLFO NORTE</td>\n",
              "      <td>19</td>\n",
              "      <td>NUEVO LEON</td>\n",
              "      <td>42</td>\n",
              "      <td>LOS RAMONES</td>\n",
              "      <td>MONTERREY</td>\n",
              "    </tr>\n",
              "    <tr>\n",
              "      <th>06TRQ-400</th>\n",
              "      <td>SIN</td>\n",
              "      <td>NORESTE</td>\n",
              "      <td>MONTERREY</td>\n",
              "      <td>Ternium Planta Pesqueria</td>\n",
              "      <td>400.0</td>\n",
              "      <td>Directamente Modelada</td>\n",
              "      <td>Indirectamente Modelada</td>\n",
              "      <td>No Aplica</td>\n",
              "      <td>No Aplica</td>\n",
              "      <td>MONTERREY</td>\n",
              "      <td>NORESTE</td>\n",
              "      <td>ORIENTE</td>\n",
              "      <td>GOLFO NORTE</td>\n",
              "      <td>19</td>\n",
              "      <td>NUEVO LEON</td>\n",
              "      <td>41</td>\n",
              "      <td>PESQUERIA</td>\n",
              "      <td>MONTERREY</td>\n",
              "    </tr>\n",
              "  </tbody>\n",
              "</table>\n",
              "</div>"
            ],
            "text/plain": [
              "          SISTEMA  ... REGION DE TRANSMISION\n",
              "CLAVE              ...                      \n",
              "06CDU-400     SIN  ...             MONTERREY\n",
              "06ESC-400     SIN  ...             MONTERREY\n",
              "06FAI-400     SIN  ...             MONTERREY\n",
              "06HUO-400     SIN  ...             MONTERREY\n",
              "06HYM-400     SIN  ...             MONTERREY\n",
              "06PGE-400     SIN  ...             MONTERREY\n",
              "06TRQ-400     SIN  ...             MONTERREY\n",
              "\n",
              "[7 rows x 18 columns]"
            ]
          },
          "metadata": {},
          "execution_count": 78
        }
      ]
    },
    {
      "cell_type": "markdown",
      "metadata": {
        "id": "hQ84lC_03qkA"
      },
      "source": [
        "## Pandas: Funciones"
      ]
    },
    {
      "cell_type": "markdown",
      "metadata": {
        "id": "RC6GANeQ3udS"
      },
      "source": [
        "Quiero saber cuantos nodos hay en cada zona de carga"
      ]
    },
    {
      "cell_type": "code",
      "metadata": {
        "colab": {
          "base_uri": "https://localhost:8080/"
        },
        "id": "7GQpAM4E3to4",
        "outputId": "88cc539d-829d-4a1c-df1f-69a38c492fed"
      },
      "source": [
        "nodos['ZONA DE CARGA'].value_counts()"
      ],
      "execution_count": null,
      "outputs": [
        {
          "output_type": "execute_result",
          "data": {
            "text/plain": [
              "MONTERREY          120\n",
              "SAN LUIS POTOSI     73\n",
              "VDM NORTE           72\n",
              "GUADALAJARA         70\n",
              "QUERETARO           69\n",
              "                  ... \n",
              "CARMEN               4\n",
              "JIQUILPAN            4\n",
              "SABINAS              3\n",
              "CUERNAVACA           3\n",
              "HUEJUTLA             2\n",
              "Name: ZONA DE CARGA, Length: 109, dtype: int64"
            ]
          },
          "metadata": {},
          "execution_count": 61
        }
      ]
    },
    {
      "cell_type": "markdown",
      "metadata": {
        "id": "xv7zfs9S4dNF"
      },
      "source": [
        "Quiero saber por zona de carga cuantas subestaciones cuenta por nivel de tensión"
      ]
    },
    {
      "cell_type": "code",
      "metadata": {
        "colab": {
          "base_uri": "https://localhost:8080/"
        },
        "id": "HPVDIDS14nKG",
        "outputId": "3623ca2d-24ee-4d5d-b109-565d48fd42b8"
      },
      "source": [
        "nodos_voltaje = nodos.groupby(['ZONA DE CARGA','NIVEL DE TENSIÓN (kV)'])['NIVEL DE TENSIÓN (kV)'].count()\n",
        "nodos_voltaje"
      ],
      "execution_count": null,
      "outputs": [
        {
          "output_type": "execute_result",
          "data": {
            "text/plain": [
              "ZONA DE CARGA   NIVEL DE TENSIÓN (kV)\n",
              "ACAPULCO        69.0                      1\n",
              "                115.0                    27\n",
              "AGUASCALIENTES  115.0                    40\n",
              "                230.0                     6\n",
              "                400.0                     2\n",
              "                                         ..\n",
              "ZACATECAS       230.0                     1\n",
              "                400.0                     3\n",
              "ZAMORA          115.0                    28\n",
              "ZAPOTLAN        115.0                     8\n",
              "ZIHUATANEJO     115.0                    10\n",
              "Name: NIVEL DE TENSIÓN (kV), Length: 213, dtype: int64"
            ]
          },
          "metadata": {},
          "execution_count": 81
        }
      ]
    },
    {
      "cell_type": "markdown",
      "metadata": {
        "id": "I4LOg97T5THf"
      },
      "source": [
        "Exportamos esta información a un excel"
      ]
    },
    {
      "cell_type": "code",
      "metadata": {
        "id": "78A9Jhu35fn6"
      },
      "source": [
        "nodos_voltaje.to_excel('nodos_zonacarga.xlsx')"
      ],
      "execution_count": null,
      "outputs": []
    },
    {
      "cell_type": "code",
      "metadata": {
        "id": "qnZOCSHyx4j7"
      },
      "source": [
        "import matplotlib\n",
        "import seaborn "
      ],
      "execution_count": null,
      "outputs": []
    }
  ]
}